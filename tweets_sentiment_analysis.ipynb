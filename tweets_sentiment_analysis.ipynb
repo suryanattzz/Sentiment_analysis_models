{
 "cells": [
  {
   "cell_type": "code",
   "execution_count": 3,
   "id": "e6486588",
   "metadata": {},
   "outputs": [],
   "source": [
    "import pandas as pd\n",
    "import seaborn as sn\n",
    "import re,random,pickle,warnings\n",
    "import numpy as np\n",
    "from keras.preprocessing.text import Tokenizer \n",
    "from nltk.corpus import stopwords  \n",
    "import nltk\n",
    "from nltk.stem import WordNetLemmatizer\n",
    "from sklearn.feature_extraction.text import CountVectorizer\n",
    "from sklearn.utils import shuffle\n",
    "from sklearn.model_selection import train_test_split\n",
    "from sklearn.metrics import classification_report,confusion_matrix\n",
    "from sklearn.metrics import roc_curve, auc,precision_recall_curve,f1_score\n",
    "from sklearn.feature_extraction import text \n",
    "import matplotlib.pyplot as plt\n",
    "import tensorflow as tf\n",
    "from tensorflow.keras.models import Sequential,load_model\n",
    "from tensorflow.keras.layers import LSTM,Dense,Embedding,Dropout,Bidirectional\n",
    "from keras.utils import pad_sequences\n"
   ]
  },
  {
   "cell_type": "markdown",
   "id": "3c85982d",
   "metadata": {},
   "source": [
    "### Load Data"
   ]
  },
  {
   "cell_type": "code",
   "execution_count": 4,
   "id": "b3711573",
   "metadata": {},
   "outputs": [
    {
     "data": {
      "text/html": [
       "<div>\n",
       "<style scoped>\n",
       "    .dataframe tbody tr th:only-of-type {\n",
       "        vertical-align: middle;\n",
       "    }\n",
       "\n",
       "    .dataframe tbody tr th {\n",
       "        vertical-align: top;\n",
       "    }\n",
       "\n",
       "    .dataframe thead th {\n",
       "        text-align: right;\n",
       "    }\n",
       "</style>\n",
       "<table border=\"1\" class=\"dataframe\">\n",
       "  <thead>\n",
       "    <tr style=\"text-align: right;\">\n",
       "      <th></th>\n",
       "      <th>text</th>\n",
       "      <th>sentiment</th>\n",
       "    </tr>\n",
       "  </thead>\n",
       "  <tbody>\n",
       "    <tr>\n",
       "      <th>0</th>\n",
       "      <td>I`d have responded, if I were going</td>\n",
       "      <td>neutral</td>\n",
       "    </tr>\n",
       "    <tr>\n",
       "      <th>1</th>\n",
       "      <td>Sooo SAD I will miss you here in San Diego!!!</td>\n",
       "      <td>negative</td>\n",
       "    </tr>\n",
       "    <tr>\n",
       "      <th>2</th>\n",
       "      <td>my boss is bullying me...</td>\n",
       "      <td>negative</td>\n",
       "    </tr>\n",
       "    <tr>\n",
       "      <th>3</th>\n",
       "      <td>what interview! leave me alone</td>\n",
       "      <td>negative</td>\n",
       "    </tr>\n",
       "    <tr>\n",
       "      <th>4</th>\n",
       "      <td>Sons of ****, why couldn`t they put them on t...</td>\n",
       "      <td>negative</td>\n",
       "    </tr>\n",
       "  </tbody>\n",
       "</table>\n",
       "</div>"
      ],
      "text/plain": [
       "                                                text sentiment\n",
       "0                I`d have responded, if I were going   neutral\n",
       "1      Sooo SAD I will miss you here in San Diego!!!  negative\n",
       "2                          my boss is bullying me...  negative\n",
       "3                     what interview! leave me alone  negative\n",
       "4   Sons of ****, why couldn`t they put them on t...  negative"
      ]
     },
     "execution_count": 4,
     "metadata": {},
     "output_type": "execute_result"
    }
   ],
   "source": [
    "df = pd.read_csv(\"C:\\\\Users\\\\LENOVO\\\\jupyternote\\\\Deep Learning\\\\tweet.csv\")\n",
    "df.head(5)"
   ]
  },
  {
   "cell_type": "code",
   "execution_count": 5,
   "id": "d6c3498b",
   "metadata": {},
   "outputs": [
    {
     "name": "stdout",
     "output_type": "stream",
     "text": [
      "<class 'pandas.core.frame.DataFrame'>\n",
      "RangeIndex: 42610 entries, 0 to 42609\n",
      "Data columns (total 2 columns):\n",
      " #   Column     Non-Null Count  Dtype \n",
      "---  ------     --------------  ----- \n",
      " 0   text       41328 non-null  object\n",
      " 1   sentiment  41329 non-null  object\n",
      "dtypes: object(2)\n",
      "memory usage: 665.9+ KB\n"
     ]
    }
   ],
   "source": [
    "df.info()"
   ]
  },
  {
   "cell_type": "markdown",
   "id": "6fe5c8d5",
   "metadata": {},
   "source": [
    "### Handling Missing Data"
   ]
  },
  {
   "cell_type": "code",
   "execution_count": 6,
   "id": "b2478da0",
   "metadata": {},
   "outputs": [
    {
     "data": {
      "text/html": [
       "<div>\n",
       "<style scoped>\n",
       "    .dataframe tbody tr th:only-of-type {\n",
       "        vertical-align: middle;\n",
       "    }\n",
       "\n",
       "    .dataframe tbody tr th {\n",
       "        vertical-align: top;\n",
       "    }\n",
       "\n",
       "    .dataframe thead th {\n",
       "        text-align: right;\n",
       "    }\n",
       "</style>\n",
       "<table border=\"1\" class=\"dataframe\">\n",
       "  <thead>\n",
       "    <tr style=\"text-align: right;\">\n",
       "      <th></th>\n",
       "      <th>text</th>\n",
       "      <th>sentiment</th>\n",
       "    </tr>\n",
       "  </thead>\n",
       "  <tbody>\n",
       "    <tr>\n",
       "      <th>0</th>\n",
       "      <td>Ooh, I love sweet potato fries! We should def...</td>\n",
       "      <td>1.0</td>\n",
       "    </tr>\n",
       "    <tr>\n",
       "      <th>1</th>\n",
       "      <td>Happy mothers day to all the mums!</td>\n",
       "      <td>1.0</td>\n",
       "    </tr>\n",
       "    <tr>\n",
       "      <th>2</th>\n",
       "      <td>awwww how cute its a pUG</td>\n",
       "      <td>1.0</td>\n",
       "    </tr>\n",
       "    <tr>\n",
       "      <th>3</th>\n",
       "      <td>I googled 'engagement rings' &amp; this is the EX...</td>\n",
       "      <td>1.0</td>\n",
       "    </tr>\n",
       "    <tr>\n",
       "      <th>4</th>\n",
       "      <td>ok point taken.  I`ll tell my team to stop ou...</td>\n",
       "      <td>1.0</td>\n",
       "    </tr>\n",
       "    <tr>\n",
       "      <th>...</th>\n",
       "      <td>...</td>\n",
       "      <td>...</td>\n",
       "    </tr>\n",
       "    <tr>\n",
       "      <th>41323</th>\n",
       "      <td>No Depression by G Herbo is my mood from now o...</td>\n",
       "      <td>NaN</td>\n",
       "    </tr>\n",
       "    <tr>\n",
       "      <th>41324</th>\n",
       "      <td>What do you do when depression succumbs the br...</td>\n",
       "      <td>NaN</td>\n",
       "    </tr>\n",
       "    <tr>\n",
       "      <th>41325</th>\n",
       "      <td>Ketamine Nasal Spray Shows Promise Against Dep...</td>\n",
       "      <td>NaN</td>\n",
       "    </tr>\n",
       "    <tr>\n",
       "      <th>41326</th>\n",
       "      <td>dont mistake a bad day with depression! everyo...</td>\n",
       "      <td>NaN</td>\n",
       "    </tr>\n",
       "    <tr>\n",
       "      <th>41327</th>\n",
       "      <td>0</td>\n",
       "      <td>NaN</td>\n",
       "    </tr>\n",
       "  </tbody>\n",
       "</table>\n",
       "<p>41328 rows × 2 columns</p>\n",
       "</div>"
      ],
      "text/plain": [
       "                                                    text  sentiment\n",
       "0       Ooh, I love sweet potato fries! We should def...        1.0\n",
       "1                     Happy mothers day to all the mums!        1.0\n",
       "2                               awwww how cute its a pUG        1.0\n",
       "3       I googled 'engagement rings' & this is the EX...        1.0\n",
       "4       ok point taken.  I`ll tell my team to stop ou...        1.0\n",
       "...                                                  ...        ...\n",
       "41323  No Depression by G Herbo is my mood from now o...        NaN\n",
       "41324  What do you do when depression succumbs the br...        NaN\n",
       "41325  Ketamine Nasal Spray Shows Promise Against Dep...        NaN\n",
       "41326  dont mistake a bad day with depression! everyo...        NaN\n",
       "41327                                                  0        NaN\n",
       "\n",
       "[41328 rows x 2 columns]"
      ]
     },
     "execution_count": 6,
     "metadata": {},
     "output_type": "execute_result"
    }
   ],
   "source": [
    "df.dropna(subset=['text'], inplace=True)\n",
    "df.dropna(subset=['sentiment'], inplace=True)\n",
    "\n",
    "def func(sentiment):\n",
    "    if sentiment =='positive' or sentiment == 1:\n",
    "        return 1;\n",
    "    elif sentiment =='negative' or sentiment == 0:\n",
    "        return 0;\n",
    "    elif sentiment == 'neutral':\n",
    "        return None\n",
    "\n",
    "df['sentiment']=df['sentiment'].apply(lambda i: func(i))\n",
    "\n",
    "df=df.sort_values('sentiment',ascending=False,ignore_index=True)\n",
    "df"
   ]
  },
  {
   "cell_type": "code",
   "execution_count": 7,
   "id": "7dd4f672",
   "metadata": {},
   "outputs": [
    {
     "name": "stdout",
     "output_type": "stream",
     "text": [
      "<class 'pandas.core.frame.DataFrame'>\n",
      "Index: 18467 entries, 0 to 18466\n",
      "Data columns (total 2 columns):\n",
      " #   Column     Non-Null Count  Dtype  \n",
      "---  ------     --------------  -----  \n",
      " 0   text       18467 non-null  object \n",
      " 1   sentiment  18467 non-null  float64\n",
      "dtypes: float64(1), object(1)\n",
      "memory usage: 432.8+ KB\n"
     ]
    }
   ],
   "source": [
    "df.dropna(subset=['sentiment'], inplace=True)\n",
    "df.info()"
   ]
  },
  {
   "cell_type": "code",
   "execution_count": 8,
   "id": "0c016e42",
   "metadata": {},
   "outputs": [
    {
     "name": "stdout",
     "output_type": "stream",
     "text": [
      "sentiment\n",
      "1.0    9685\n",
      "0.0    8782\n",
      "Name: count, dtype: int64\n"
     ]
    }
   ],
   "source": [
    "print(df['sentiment'].value_counts())"
   ]
  },
  {
   "cell_type": "markdown",
   "id": "3b1d86e3",
   "metadata": {},
   "source": [
    "### Text Preprocessing"
   ]
  },
  {
   "cell_type": "code",
   "execution_count": 9,
   "id": "7d98a083",
   "metadata": {},
   "outputs": [],
   "source": [
    "def func_1(text):\n",
    "    stop_words=set(stopwords.words('english'))\n",
    "    lemmatizer=WordNetLemmatizer()\n",
    "    \n",
    "    cleaned_string = re.sub(r'[-_.,;:\\'\"#<>\\/=&@*!)(}{?\\d]', '', text)\n",
    "    cleaned_string = cleaned_string.lower()\n",
    "    cleaned_string = re.sub('https://.*','',cleaned_string) \n",
    "    cleaned_string = re.sub(pattern='@[a-zA-Z_0-9]*', repl='@user',string=cleaned_string)\n",
    "    cleaned_string = cleaned_string.lower()\n",
    "    cleaned_string = ' '.join([i for i in cleaned_string.split() if i not in stop_words])\n",
    "\n",
    "    lemmatized_words = [lemmatizer.lemmatize(word) for word in cleaned_string.split()]\n",
    "    lemmatized_string = ' '.join(lemmatized_words)\n",
    "    \n",
    "    return lemmatized_string"
   ]
  },
  {
   "cell_type": "code",
   "execution_count": 10,
   "id": "32eb8329",
   "metadata": {},
   "outputs": [
    {
     "data": {
      "text/plain": [
       "'Happy mothers day to all the mums!'"
      ]
     },
     "execution_count": 10,
     "metadata": {},
     "output_type": "execute_result"
    }
   ],
   "source": [
    "df['text'][1]"
   ]
  },
  {
   "cell_type": "code",
   "execution_count": 11,
   "id": "ae782914",
   "metadata": {},
   "outputs": [
    {
     "data": {
      "text/plain": [
       "'happy mother day mum'"
      ]
     },
     "execution_count": 11,
     "metadata": {},
     "output_type": "execute_result"
    }
   ],
   "source": [
    "df['text']=df['text'].apply(lambda i :func_1(i))\n",
    "df['text'][1]"
   ]
  },
  {
   "cell_type": "code",
   "execution_count": 12,
   "id": "0d8e2e0f",
   "metadata": {},
   "outputs": [
    {
     "data": {
      "image/png": "[encoded data removed]",
      "text/plain": [
       "<Figure size 640x480 with 1 Axes>"
      ]
     },
     "metadata": {},
     "output_type": "display_data"
    }
   ],
   "source": [
    "def plot():\n",
    "    sn.histplot(df['sentiment'], kde=True)\n",
    "plot()"
   ]
  },
  {
   "cell_type": "markdown",
   "id": "c9ce283b",
   "metadata": {},
   "source": [
    "### Spliting the Data"
   ]
  },
  {
   "cell_type": "code",
   "execution_count": 13,
   "id": "c8684843",
   "metadata": {},
   "outputs": [],
   "source": [
    "df_shuffled = shuffle(df)\n",
    "\n",
    "warnings.filterwarnings(\"ignore\")\n",
    "\n",
    "x_train,x_test,y_train,y_test = train_test_split(df_shuffled.text, df_shuffled.sentiment, train_size=0.7,random_state=42)\n"
   ]
  },
  {
   "cell_type": "markdown",
   "id": "bfdd805b",
   "metadata": {},
   "source": [
    "### No of Features"
   ]
  },
  {
   "cell_type": "code",
   "execution_count": 14,
   "id": "559b1bb6",
   "metadata": {},
   "outputs": [
    {
     "name": "stdout",
     "output_type": "stream",
     "text": [
      "Total no of features 19643\n"
     ]
    }
   ],
   "source": [
    "count_vect=CountVectorizer()\n",
    "feature_vector=count_vect.fit(df.text)\n",
    "\n",
    "features=feature_vector.get_feature_names_out()\n",
    "\n",
    "print('Total no of features',len(features))"
   ]
  },
  {
   "cell_type": "markdown",
   "id": "549d6470",
   "metadata": {},
   "source": [
    "### Tokenization"
   ]
  },
  {
   "cell_type": "code",
   "execution_count": 15,
   "id": "2747e29c",
   "metadata": {},
   "outputs": [],
   "source": [
    "tokens=10000\n",
    "tokens=tokens\n",
    "tokenizer=Tokenizer(num_words=tokens,oov_token=\"<OOV>\")\n",
    "\n",
    "tokenizer.fit_on_texts(x_train)\n",
    "tokenizer.fit_on_texts(x_test)"
   ]
  },
  {
   "cell_type": "code",
   "execution_count": 16,
   "id": "544f8047",
   "metadata": {},
   "outputs": [],
   "source": [
    "x_train = tokenizer.texts_to_sequences(x_train)\n",
    "x_test = tokenizer.texts_to_sequences(x_test)"
   ]
  },
  {
   "cell_type": "code",
   "execution_count": 17,
   "id": "6cfb3c6d",
   "metadata": {},
   "outputs": [
    {
     "data": {
      "text/plain": [
       "[889, 528, 3706, 137, 504, 47, 221, 47, 49, 75, 33, 17, 97]"
      ]
     },
     "execution_count": 17,
     "metadata": {},
     "output_type": "execute_result"
    }
   ],
   "source": [
    "x_test[0]"
   ]
  },
  {
   "cell_type": "markdown",
   "id": "61b94f57",
   "metadata": {},
   "source": [
    "### Vocabulory Size of Data"
   ]
  },
  {
   "cell_type": "code",
   "execution_count": 18,
   "id": "12f1debf",
   "metadata": {},
   "outputs": [
    {
     "name": "stdout",
     "output_type": "stream",
     "text": [
      "Vocabulory size: 19654\n"
     ]
    }
   ],
   "source": [
    "vocab_size=len(tokenizer.word_index)+1\n",
    "print(\"Vocabulory size:\",vocab_size)"
   ]
  },
  {
   "cell_type": "markdown",
   "id": "6ca3bdc3",
   "metadata": {},
   "source": [
    "### Average sentence size"
   ]
  },
  {
   "cell_type": "code",
   "execution_count": 19,
   "id": "3ba1a7c4",
   "metadata": {},
   "outputs": [
    {
     "name": "stdout",
     "output_type": "stream",
     "text": [
      "8.556939405425894\n"
     ]
    }
   ],
   "source": [
    "avg=sum(len(sentence.split()) for sentence in df['text'])/len(df.text)\n",
    "print(avg+1)"
   ]
  },
  {
   "cell_type": "code",
   "execution_count": 20,
   "id": "d1c54306",
   "metadata": {},
   "outputs": [
    {
     "data": {
      "image/png": "[encoded data removed]",
      "text/plain": [
       "<Figure size 640x480 with 1 Axes>"
      ]
     },
     "metadata": {},
     "output_type": "display_data"
    }
   ],
   "source": [
    "plt.hist([len(sentence.split()) for sentence in df['text']], bins=50)\n",
    "plt.xlabel('Sentence Length')\n",
    "plt.ylabel('Frequency')\n",
    "plt.show()"
   ]
  },
  {
   "cell_type": "markdown",
   "id": "37c19d19",
   "metadata": {},
   "source": [
    "### Padding Data"
   ]
  },
  {
   "cell_type": "code",
   "execution_count": 21,
   "id": "8928eafd",
   "metadata": {},
   "outputs": [],
   "source": [
    "x_train = pad_sequences(x_train, padding='post', maxlen=25)  # Set maxlen to 35\n",
    "x_test = pad_sequences(x_test, padding='post', maxlen=25)  "
   ]
  },
  {
   "cell_type": "code",
   "execution_count": 22,
   "id": "393b5706",
   "metadata": {},
   "outputs": [
    {
     "name": "stdout",
     "output_type": "stream",
     "text": [
      "(12926, 25)\n",
      "(5541, 25)\n",
      "(12926,)\n"
     ]
    }
   ],
   "source": [
    "print(x_train.shape)\n",
    "print(x_test.shape)\n",
    "print(y_train.shape)"
   ]
  },
  {
   "cell_type": "markdown",
   "id": "5be713a8",
   "metadata": {},
   "source": [
    "### Model building using LSTM and Training"
   ]
  },
  {
   "cell_type": "code",
   "execution_count": 23,
   "id": "05f3fefa",
   "metadata": {},
   "outputs": [
    {
     "name": "stdout",
     "output_type": "stream",
     "text": [
      "WARNING:tensorflow:From C:\\Users\\LENOVO\\anaconda3\\envs\\notebook\\lib\\site-packages\\keras\\src\\backend.py:873: The name tf.get_default_graph is deprecated. Please use tf.compat.v1.get_default_graph instead.\n",
      "\n",
      "Model: \"sequential\"\n",
      "_________________________________________________________________\n",
      " Layer (type)                Output Shape              Param #   \n",
      "=================================================================\n",
      " embedding (Embedding)       (None, 25, 5)             98270     \n",
      "                                                                 \n",
      " dropout (Dropout)           (None, 25, 5)             0         \n",
      "                                                                 \n",
      " lstm (LSTM)                 (None, 25, 64)            17920     \n",
      "                                                                 \n",
      " dropout_1 (Dropout)         (None, 25, 64)            0         \n",
      "                                                                 \n",
      " lstm_1 (LSTM)               (None, 64)                33024     \n",
      "                                                                 \n",
      " dropout_2 (Dropout)         (None, 64)                0         \n",
      "                                                                 \n",
      " dense (Dense)               (None, 40)                2600      \n",
      "                                                                 \n",
      " dropout_3 (Dropout)         (None, 40)                0         \n",
      "                                                                 \n",
      " dense_1 (Dense)             (None, 1)                 41        \n",
      "                                                                 \n",
      "=================================================================\n",
      "Total params: 151855 (593.18 KB)\n",
      "Trainable params: 151855 (593.18 KB)\n",
      "Non-trainable params: 0 (0.00 Byte)\n",
      "_________________________________________________________________\n",
      "WARNING:tensorflow:From C:\\Users\\LENOVO\\anaconda3\\envs\\notebook\\lib\\site-packages\\keras\\src\\optimizers\\__init__.py:309: The name tf.train.Optimizer is deprecated. Please use tf.compat.v1.train.Optimizer instead.\n",
      "\n"
     ]
    }
   ],
   "source": [
    "lstm_model = Sequential()\n",
    "\n",
    "lstm_model.add(Embedding(input_dim=vocab_size,output_dim=5,input_length=25))\n",
    "lstm_model.add(Dropout(0.6))\n",
    "\n",
    "lstm_model.add(LSTM(units=64,return_sequences=True))\n",
    "lstm_model.add(Dropout(0.6))\n",
    "\n",
    "lstm_model.add(LSTM(units=64,return_sequences=False))\n",
    "lstm_model.add(Dropout(0.6))\n",
    "\n",
    "lstm_model.add(Dense(40,activation='relu'))\n",
    "lstm_model.add(Dropout(0.5))\n",
    "\n",
    "lstm_model.add(Dense(units=1, activation='sigmoid'))\n",
    "\n",
    "lstm_model.summary()\n",
    "\n",
    "lstm_model.compile(optimizer='adam', loss='binary_crossentropy', metrics=['accuracy'])"
   ]
  },
  {
   "cell_type": "code",
   "execution_count": 24,
   "id": "5bf4661c",
   "metadata": {},
   "outputs": [
    {
     "name": "stdout",
     "output_type": "stream",
     "text": [
      "Epoch 1/12\n",
      "WARNING:tensorflow:From C:\\Users\\LENOVO\\anaconda3\\envs\\notebook\\lib\\site-packages\\keras\\src\\utils\\tf_utils.py:492: The name tf.ragged.RaggedTensorValue is deprecated. Please use tf.compat.v1.ragged.RaggedTensorValue instead.\n",
      "\n",
      "WARNING:tensorflow:From C:\\Users\\LENOVO\\anaconda3\\envs\\notebook\\lib\\site-packages\\keras\\src\\engine\\base_layer_utils.py:384: The name tf.executing_eagerly_outside_functions is deprecated. Please use tf.compat.v1.executing_eagerly_outside_functions instead.\n",
      "\n",
      "202/202 [==============================] - 11s 33ms/step - loss: 0.6920 - accuracy: 0.5233 - val_loss: 0.6906 - val_accuracy: 0.5145 - lr: 0.0010\n",
      "Epoch 2/12\n",
      "202/202 [==============================] - 6s 29ms/step - loss: 0.4846 - accuracy: 0.7715 - val_loss: 0.3732 - val_accuracy: 0.8334 - lr: 0.0010\n",
      "Epoch 3/12\n",
      "202/202 [==============================] - 5s 27ms/step - loss: 0.3673 - accuracy: 0.8501 - val_loss: 0.3381 - val_accuracy: 0.8645 - lr: 0.0010\n",
      "Epoch 4/12\n",
      "202/202 [==============================] - 5s 27ms/step - loss: 0.3276 - accuracy: 0.8669 - val_loss: 0.3113 - val_accuracy: 0.8670 - lr: 0.0010\n",
      "Epoch 5/12\n",
      "202/202 [==============================] - 5s 27ms/step - loss: 0.2993 - accuracy: 0.8854 - val_loss: 0.3086 - val_accuracy: 0.8659 - lr: 0.0010\n",
      "Epoch 6/12\n",
      "202/202 [==============================] - 5s 26ms/step - loss: 0.2710 - accuracy: 0.8976 - val_loss: 0.3216 - val_accuracy: 0.8695 - lr: 8.0000e-04\n",
      "Epoch 7/12\n",
      "202/202 [==============================] - 5s 27ms/step - loss: 0.2610 - accuracy: 0.9000 - val_loss: 0.3154 - val_accuracy: 0.8663 - lr: 8.0000e-04\n",
      "Epoch 8/12\n",
      "202/202 [==============================] - 5s 27ms/step - loss: 0.2466 - accuracy: 0.9106 - val_loss: 0.3433 - val_accuracy: 0.8495 - lr: 8.0000e-04\n"
     ]
    }
   ],
   "source": [
    "from keras.callbacks import LearningRateScheduler\n",
    "from keras.callbacks import EarlyStopping\n",
    "\n",
    "def scheduler(epoch, lr):\n",
    "    if epoch % 5 == 0 and epoch != 0:\n",
    "        return lr * 0.8\n",
    "    else:\n",
    "        return lr\n",
    "\n",
    "early_stopping = EarlyStopping(monitor='val_loss', patience=3, restore_best_weights=True)\n",
    "lr_schedule = LearningRateScheduler(scheduler)\n",
    "\n",
    "\n",
    "history_1 = lstm_model.fit(x_train,y_train,epochs=12,batch_size=64,validation_data=(x_test, y_test)\n",
    "                       ,callbacks=[early_stopping,lr_schedule])"
   ]
  },
  {
   "cell_type": "markdown",
   "id": "f340d2b6",
   "metadata": {},
   "source": [
    "### Model Accurancy"
   ]
  },
  {
   "cell_type": "code",
   "execution_count": 25,
   "id": "4f78413a",
   "metadata": {},
   "outputs": [
    {
     "data": {
      "image/png": "[encoded data removed]",
      "text/plain": [
       "<Figure size 1200x400 with 2 Axes>"
      ]
     },
     "metadata": {},
     "output_type": "display_data"
    }
   ],
   "source": [
    "plt.figure(figsize=(12, 4))\n",
    "plt.subplot(1, 2, 1)\n",
    "plt.plot(history_1.history['accuracy'])\n",
    "plt.plot(history_1.history['val_accuracy'])\n",
    "plt.title('Model Accuracy')\n",
    "plt.ylabel('Accuracy')\n",
    "plt.xlabel('Epoch')\n",
    "plt.legend(['Train', 'Validation'], loc='upper left')\n",
    "\n",
    "plt.subplot(1, 2, 2)\n",
    "plt.plot(history_1.history['loss'])\n",
    "plt.plot(history_1.history['val_loss'])\n",
    "plt.title('Model Loss')\n",
    "plt.ylabel('Loss')\n",
    "plt.xlabel('Epoch')\n",
    "plt.legend(['Train', 'Validation'], loc='upper left')\n",
    "\n",
    "plt.tight_layout()\n",
    "plt.show()"
   ]
  },
  {
   "cell_type": "code",
   "execution_count": 26,
   "id": "23115973",
   "metadata": {},
   "outputs": [
    {
     "name": "stdout",
     "output_type": "stream",
     "text": [
      "174/174 [==============================] - 2s 7ms/step\n"
     ]
    }
   ],
   "source": [
    "y_pred = lstm_model.predict(x_test)"
   ]
  },
  {
   "cell_type": "code",
   "execution_count": 27,
   "id": "f5d252ca",
   "metadata": {},
   "outputs": [
    {
     "data": {
      "image/png": "[encoded data removed]",
      "text/plain": [
       "<Figure size 600x600 with 1 Axes>"
      ]
     },
     "metadata": {},
     "output_type": "display_data"
    }
   ],
   "source": [
    "fpr, tpr, thresholds = roc_curve(y_test, y_pred)\n",
    "roc_auc = auc(fpr, tpr)\n",
    "\n",
    "# Plot ROC curve\n",
    "plt.figure(figsize=(6, 6))\n",
    "plt.plot(fpr, tpr, color='darkorange', lw=2, label='ROC curve (area = {:.2f})'.format(roc_auc))\n",
    "plt.plot([0, 1], [0, 1], color='navy', lw=2, linestyle='--')\n",
    "plt.xlabel('False Positive Rate')\n",
    "plt.ylabel('True Positive Rate')\n",
    "plt.title('Receiver Operating Characteristic (ROC) Curve')\n",
    "plt.legend(loc='lower right')\n",
    "plt.show()"
   ]
  },
  {
   "cell_type": "code",
   "execution_count": 28,
   "id": "ff5deff2",
   "metadata": {},
   "outputs": [
    {
     "data": {
      "image/png": "[encoded data removed]",
      "text/plain": [
       "<Figure size 600x600 with 1 Axes>"
      ]
     },
     "metadata": {},
     "output_type": "display_data"
    }
   ],
   "source": [
    "precision, recall, thresholds = precision_recall_curve(y_test, y_pred)\n",
    "\n",
    "# Plot Precision-Recall curve\n",
    "plt.figure(figsize=(6, 6))\n",
    "plt.plot(recall, precision, color='darkorange', lw=2, label='Precision-Recall curve')\n",
    "plt.xlabel('Recall')\n",
    "plt.ylabel('Precision')\n",
    "plt.title('Precision-Recall Curve')\n",
    "plt.legend(loc='lower right')\n",
    "plt.show()"
   ]
  },
  {
   "cell_type": "markdown",
   "id": "a4f54b50",
   "metadata": {},
   "source": [
    "### Threshold Value"
   ]
  },
  {
   "cell_type": "code",
   "execution_count": 29,
   "id": "c9277d72",
   "metadata": {},
   "outputs": [
    {
     "name": "stdout",
     "output_type": "stream",
     "text": [
      "0.3508308\n"
     ]
    }
   ],
   "source": [
    "f1_scores = [f1_score(y_test, (y_pred >= t).astype(int)) for t in thresholds]\n",
    "best_threshold = thresholds[np.argmax(f1_scores)]\n",
    "print(best_threshold)"
   ]
  },
  {
   "cell_type": "markdown",
   "id": "17d13d22",
   "metadata": {},
   "source": [
    "### Confusion Matrix"
   ]
  },
  {
   "cell_type": "code",
   "execution_count": 30,
   "id": "f38025b3",
   "metadata": {},
   "outputs": [
    {
     "name": "stdout",
     "output_type": "stream",
     "text": [
      "              precision    recall  f1-score   support\n",
      "\n",
      "         0.0       0.90      0.82      0.86      2690\n",
      "         1.0       0.84      0.91      0.88      2851\n",
      "\n",
      "    accuracy                           0.87      5541\n",
      "   macro avg       0.87      0.87      0.87      5541\n",
      "weighted avg       0.87      0.87      0.87      5541\n",
      "\n"
     ]
    },
    {
     "data": {
      "text/plain": [
       "Text(8.222222222222223, 0.5, 'Truth')"
      ]
     },
     "execution_count": 30,
     "metadata": {},
     "output_type": "execute_result"
    },
    {
     "data": {
      "image/png": "[encoded data removed]",
      "text/plain": [
       "<Figure size 300x200 with 2 Axes>"
      ]
     },
     "metadata": {},
     "output_type": "display_data"
    }
   ],
   "source": [
    "threshold = best_threshold\n",
    "y_pred_labels = np.where(y_pred >= threshold, 1, 0)\n",
    "\n",
    "print(classification_report(y_test, y_pred_labels))\n",
    "cm = confusion_matrix(y_test, y_pred_labels)\n",
    "plt.figure(figsize = (3,2))\n",
    "sn.heatmap(cm, annot=True, fmt='d')\n",
    "plt.xlabel('Prediction')\n",
    "plt.ylabel('Truth')"
   ]
  },
  {
   "cell_type": "markdown",
   "id": "51d8a61f",
   "metadata": {},
   "source": [
    "### Model Prediction"
   ]
  },
  {
   "cell_type": "code",
   "execution_count": 31,
   "id": "8bb79fc6",
   "metadata": {},
   "outputs": [],
   "source": [
    "def predictions(model,text):\n",
    "    new_text=func_1(text)\n",
    "    new_text= tokenizer.texts_to_sequences([new_text])\n",
    "    new_text= pad_sequences(new_text, padding='post', maxlen=25) \n",
    "    predictions = model.predict(new_text)\n",
    "    if predictions > best_threshold:\n",
    "        output='The review is positive'\n",
    "        value=predictions\n",
    "    else:\n",
    "        output='The review is negative'\n",
    "        value=predictions\n",
    "    return output,value"
   ]
  },
  {
   "cell_type": "code",
   "execution_count": 32,
   "id": "ec4a9594",
   "metadata": {},
   "outputs": [
    {
     "name": "stdout",
     "output_type": "stream",
     "text": [
      "1/1 [==============================] - 0s 26ms/step\n",
      "The review is negative [[0.00570907]]\n"
     ]
    }
   ],
   "source": [
    "text = \"The movie was bad bad and worst, i will not recommend this movie to anyone\"\n",
    "predicted_value,value=predictions(lstm_model,text)\n",
    "\n",
    "print(predicted_value,value)"
   ]
  },
  {
   "cell_type": "code",
   "execution_count": 33,
   "id": "516465a8",
   "metadata": {},
   "outputs": [
    {
     "name": "stdout",
     "output_type": "stream",
     "text": [
      "1/1 [==============================] - 0s 25ms/step\n",
      "The review is negative [[0.23646702]]\n"
     ]
    }
   ],
   "source": [
    "text = \"The movie was moderate, i will not recommend this movie to anyone\"\n",
    "\n",
    "predicted_value,value=predictions(lstm_model,text)\n",
    "\n",
    "print(predicted_value,value)"
   ]
  },
  {
   "cell_type": "code",
   "execution_count": 34,
   "id": "4f082502",
   "metadata": {},
   "outputs": [
    {
     "name": "stdout",
     "output_type": "stream",
     "text": [
      "1/1 [==============================] - 0s 27ms/step\n",
      "The review is positive [[0.8955157]]\n"
     ]
    }
   ],
   "source": [
    "text = \"the free fillin` app on my ipod is fun, im addicted\"\n",
    "\n",
    "predicted_value,value=predictions(lstm_model,text)\n",
    "\n",
    "print(predicted_value,value)\n"
   ]
  },
  {
   "cell_type": "code",
   "execution_count": null,
   "id": "b9eb638f",
   "metadata": {},
   "outputs": [],
   "source": []
  },
  {
   "cell_type": "markdown",
   "id": "ed5d3ae4",
   "metadata": {},
   "source": [
    "## Model building using Bidirectional LSTM and Training"
   ]
  },
  {
   "cell_type": "code",
   "execution_count": 35,
   "id": "db898103",
   "metadata": {},
   "outputs": [
    {
     "name": "stdout",
     "output_type": "stream",
     "text": [
      "Model: \"sequential_1\"\n",
      "_________________________________________________________________\n",
      " Layer (type)                Output Shape              Param #   \n",
      "=================================================================\n",
      " embedding_1 (Embedding)     (None, 25, 5)             98270     \n",
      "                                                                 \n",
      " dropout_4 (Dropout)         (None, 25, 5)             0         \n",
      "                                                                 \n",
      " bidirectional (Bidirection  (None, 128)               35840     \n",
      " al)                                                             \n",
      "                                                                 \n",
      " dropout_5 (Dropout)         (None, 128)               0         \n",
      "                                                                 \n",
      " dense_2 (Dense)             (None, 20)                2580      \n",
      "                                                                 \n",
      " dropout_6 (Dropout)         (None, 20)                0         \n",
      "                                                                 \n",
      " dense_3 (Dense)             (None, 1)                 21        \n",
      "                                                                 \n",
      "=================================================================\n",
      "Total params: 136711 (534.03 KB)\n",
      "Trainable params: 136711 (534.03 KB)\n",
      "Non-trainable params: 0 (0.00 Byte)\n",
      "_________________________________________________________________\n"
     ]
    }
   ],
   "source": [
    "lstm_bi_model=Sequential()\n",
    "\n",
    "lstm_bi_model.add(Embedding(input_dim=vocab_size,output_dim=5,input_length=25))\n",
    "lstm_bi_model.add(Dropout(0.7))\n",
    "\n",
    "\n",
    "lstm_bi_model.add(Bidirectional(LSTM(units=64,return_sequences=False)))\n",
    "lstm_bi_model.add(Dropout(0.7))\n",
    "\n",
    "lstm_bi_model.add(Dense(20,activation='relu'))\n",
    "lstm_bi_model.add(Dropout(0.5))\n",
    "\n",
    "lstm_bi_model.add(Dense(units=1, activation='sigmoid'))\n",
    "\n",
    "lstm_bi_model.summary()\n",
    "\n",
    "lstm_bi_model.compile(optimizer='adam', loss='binary_crossentropy', metrics=['accuracy'])"
   ]
  },
  {
   "cell_type": "code",
   "execution_count": 36,
   "id": "de34de94",
   "metadata": {},
   "outputs": [
    {
     "name": "stdout",
     "output_type": "stream",
     "text": [
      "Epoch 1/15\n",
      "808/808 [==============================] - 13s 12ms/step - loss: 0.6060 - accuracy: 0.6478 - val_loss: 0.3835 - val_accuracy: 0.8477 - lr: 0.0010\n",
      "Epoch 2/15\n",
      "808/808 [==============================] - 9s 11ms/step - loss: 0.4427 - accuracy: 0.8067 - val_loss: 0.3349 - val_accuracy: 0.8549 - lr: 0.0010\n",
      "Epoch 3/15\n",
      "808/808 [==============================] - 9s 11ms/step - loss: 0.3875 - accuracy: 0.8350 - val_loss: 0.3220 - val_accuracy: 0.8623 - lr: 0.0010\n",
      "Epoch 4/15\n",
      "808/808 [==============================] - 9s 11ms/step - loss: 0.3567 - accuracy: 0.8546 - val_loss: 0.3215 - val_accuracy: 0.8601 - lr: 0.0010\n",
      "Epoch 5/15\n",
      "808/808 [==============================] - 9s 11ms/step - loss: 0.3438 - accuracy: 0.8618 - val_loss: 0.3142 - val_accuracy: 0.8634 - lr: 0.0010\n",
      "Epoch 6/15\n",
      "808/808 [==============================] - 9s 11ms/step - loss: 0.3129 - accuracy: 0.8748 - val_loss: 0.3069 - val_accuracy: 0.8668 - lr: 8.0000e-04\n",
      "Epoch 7/15\n",
      "808/808 [==============================] - 9s 11ms/step - loss: 0.3110 - accuracy: 0.8782 - val_loss: 0.3139 - val_accuracy: 0.8627 - lr: 8.0000e-04\n",
      "Epoch 8/15\n",
      "808/808 [==============================] - 9s 11ms/step - loss: 0.2966 - accuracy: 0.8818 - val_loss: 0.3130 - val_accuracy: 0.8659 - lr: 8.0000e-04\n",
      "Epoch 9/15\n",
      "808/808 [==============================] - 9s 11ms/step - loss: 0.2829 - accuracy: 0.8911 - val_loss: 0.3141 - val_accuracy: 0.8648 - lr: 8.0000e-04\n"
     ]
    }
   ],
   "source": [
    "from keras.callbacks import LearningRateScheduler\n",
    "from keras.callbacks import EarlyStopping\n",
    "\n",
    "def scheduler(epoch, lr):\n",
    "    if epoch % 5 == 0 and epoch != 0:\n",
    "        return lr * 0.8\n",
    "    else:\n",
    "        return lr\n",
    "\n",
    "early_stopping = EarlyStopping(monitor='val_loss', patience=3, restore_best_weights=True)\n",
    "lr_schedule = LearningRateScheduler(scheduler)\n",
    "\n",
    "\n",
    "history_2 = lstm_bi_model.fit(x_train,y_train,epochs=15,batch_size=16,validation_data=(x_test, y_test)\n",
    "                       ,callbacks=[early_stopping,lr_schedule])"
   ]
  },
  {
   "cell_type": "markdown",
   "id": "97557f98",
   "metadata": {},
   "source": [
    "### Model Accurancy"
   ]
  },
  {
   "cell_type": "code",
   "execution_count": 37,
   "id": "2bbe7f87",
   "metadata": {},
   "outputs": [
    {
     "data": {
      "image/png": "[encoded data removed]",
      "text/plain": [
       "<Figure size 1200x400 with 2 Axes>"
      ]
     },
     "metadata": {},
     "output_type": "display_data"
    }
   ],
   "source": [
    "plt.figure(figsize=(12, 4))\n",
    "plt.subplot(1, 2, 1)\n",
    "plt.plot(history_2.history['accuracy'])\n",
    "plt.plot(history_2.history['val_accuracy'])\n",
    "plt.title('Model Accuracy')\n",
    "plt.ylabel('Accuracy')\n",
    "plt.xlabel('Epoch')\n",
    "plt.legend(['Train', 'Validation'], loc='upper left')\n",
    "\n",
    "plt.subplot(1, 2, 2)\n",
    "plt.plot(history_2.history['loss'])\n",
    "plt.plot(history_2.history['val_loss'])\n",
    "plt.title('Model Loss')\n",
    "plt.ylabel('Loss')\n",
    "plt.xlabel('Epoch')\n",
    "plt.legend(['Train', 'Validation'], loc='upper left')\n",
    "\n",
    "plt.tight_layout()\n",
    "plt.show()"
   ]
  },
  {
   "cell_type": "markdown",
   "id": "25a2512d",
   "metadata": {},
   "source": [
    "### Threshold Value"
   ]
  },
  {
   "cell_type": "code",
   "execution_count": 38,
   "id": "3f60fbfd",
   "metadata": {},
   "outputs": [
    {
     "name": "stdout",
     "output_type": "stream",
     "text": [
      "174/174 [==============================] - 1s 5ms/step\n",
      "0.42854056\n"
     ]
    }
   ],
   "source": [
    "y_pred = lstm_bi_model.predict(x_test)\n",
    "fpr, tpr, thresholds = roc_curve(y_test, y_pred)\n",
    "\n",
    "f1_scores = [f1_score(y_test, (y_pred >= t).astype(int)) for t in thresholds]\n",
    "best_threshold = thresholds[np.argmax(f1_scores)]\n",
    "print(best_threshold)"
   ]
  },
  {
   "cell_type": "markdown",
   "id": "3874447c",
   "metadata": {},
   "source": [
    "### Model Prediction"
   ]
  },
  {
   "cell_type": "code",
   "execution_count": 39,
   "id": "c4afec8a",
   "metadata": {},
   "outputs": [],
   "source": [
    "def predictions(model,text):\n",
    "    new_text=func_1(text)\n",
    "    new_text= tokenizer.texts_to_sequences([new_text])\n",
    "    new_text= pad_sequences(new_text, padding='post', maxlen=25) \n",
    "    predictions = model.predict(new_text)\n",
    "    if predictions > best_threshold:\n",
    "        output='The review is positive'\n",
    "        value=predictions\n",
    "    else:\n",
    "        output='The review is negative'\n",
    "        value=predictions\n",
    "    return output,value"
   ]
  },
  {
   "cell_type": "code",
   "execution_count": 40,
   "id": "b8bd583d",
   "metadata": {},
   "outputs": [
    {
     "name": "stdout",
     "output_type": "stream",
     "text": [
      "1/1 [==============================] - 0s 25ms/step\n",
      "The review is positive [[0.8757312]]\n"
     ]
    }
   ],
   "source": [
    "text = \"the free fillin` app on my ipod is fun, im addicted\"\n",
    "\n",
    "predicted_value,value=predictions(lstm_bi_model,text)\n",
    "\n",
    "print(predicted_value,value)\n"
   ]
  },
  {
   "cell_type": "code",
   "execution_count": 41,
   "id": "ad166886",
   "metadata": {},
   "outputs": [
    {
     "name": "stdout",
     "output_type": "stream",
     "text": [
      "1/1 [==============================] - 0s 24ms/step\n",
      "The review is negative [[0.00215785]]\n"
     ]
    }
   ],
   "source": [
    "text = \"The movie was bad bad and worst, i will not recommend this movie to anyone\"\n",
    "predicted_value,value=predictions(lstm_bi_model,text)\n",
    "\n",
    "print(predicted_value,value)"
   ]
  },
  {
   "cell_type": "code",
   "execution_count": 42,
   "id": "e8ecea35",
   "metadata": {},
   "outputs": [
    {
     "name": "stdout",
     "output_type": "stream",
     "text": [
      "1/1 [==============================] - 0s 24ms/step\n",
      "The review is positive [[0.43632603]]\n"
     ]
    }
   ],
   "source": [
    "text = \"The movie was moderate, i will not recommend this movie to anyone\"\n",
    "\n",
    "predicted_value,value=predictions(lstm_bi_model,text)\n",
    "\n",
    "print(predicted_value,value)"
   ]
  },
  {
   "cell_type": "markdown",
   "id": "34f3e0ae",
   "metadata": {},
   "source": [
    "### Saving Model"
   ]
  },
  {
   "cell_type": "code",
   "execution_count": null,
   "id": "fd75d659",
   "metadata": {},
   "outputs": [],
   "source": [
    "recurrent.save('sentiment_rnn_tweet_20_37.h5')"
   ]
  },
  {
   "cell_type": "code",
   "execution_count": null,
   "id": "8a61b539",
   "metadata": {},
   "outputs": [],
   "source": [
    "loaded_model=load_model('sentiment_rnn_tweet_10_37.h5')\n",
    "loaded_model.summary()"
   ]
  },
  {
   "cell_type": "code",
   "execution_count": null,
   "id": "22bd3c7f",
   "metadata": {},
   "outputs": [],
   "source": [
    "with open('tokenizer_lstm_tweet_20_37.pickle', 'wb') as handle:\n",
    "    pickle.dump(tokenizer, handle, protocol=pickle.HIGHEST_PROTOCOL)"
   ]
  },
  {
   "cell_type": "code",
   "execution_count": null,
   "id": "f4d12a7b",
   "metadata": {},
   "outputs": [],
   "source": []
  },
  {
   "cell_type": "code",
   "execution_count": null,
   "id": "85d7de3a",
   "metadata": {},
   "outputs": [],
   "source": []
  },
  {
   "cell_type": "code",
   "execution_count": null,
   "id": "1287827b",
   "metadata": {},
   "outputs": [],
   "source": []
  },
  {
   "cell_type": "code",
   "execution_count": null,
   "id": "cdf70d1c",
   "metadata": {},
   "outputs": [],
   "source": []
  }
 ],
 "metadata": {
  "kernelspec": {
   "display_name": "Python 3 (ipykernel)",
   "language": "python",
   "name": "python3"
  },
  "language_info": {
   "codemirror_mode": {
    "name": "ipython",
    "version": 3
   },
   "file_extension": ".py",
   "mimetype": "text/x-python",
   "name": "python",
   "nbconvert_exporter": "python",
   "pygments_lexer": "ipython3",
   "version": "3.9.18"
  }
 },
 "nbformat": 4,
 "nbformat_minor": 5
}
