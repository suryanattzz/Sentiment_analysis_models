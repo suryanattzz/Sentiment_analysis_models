{
 "cells": [
  {
   "cell_type": "code",
   "execution_count": 1,
   "id": "e6486588",
   "metadata": {
    "executionInfo": {
     "elapsed": 9021,
     "status": "ok",
     "timestamp": 1706331305836,
     "user": {
      "displayName": "Surya Nattarayasamy",
      "userId": "15728084309802203741"
     },
     "user_tz": -330
    },
    "id": "e6486588"
   },
   "outputs": [],
   "source": [
    "import pandas as pd\n",
    "import seaborn as sn\n",
    "import re, random, pickle, warnings\n",
    "import numpy as np\n",
    "from keras.preprocessing.text import Tokenizer\n",
    "from nltk.corpus import stopwords\n",
    "import nltk\n",
    "from nltk.stem import WordNetLemmatizer\n",
    "from sklearn.feature_extraction.text import CountVectorizer\n",
    "from sklearn.utils import shuffle\n",
    "from sklearn.model_selection import train_test_split\n",
    "from sklearn.metrics import classification_report,confusion_matrix\n",
    "from sklearn.metrics import roc_curve, auc,precision_recall_curve,f1_score\n",
    "from sklearn.feature_extraction import text\n",
    "import matplotlib.pyplot as plt\n",
    "import tensorflow as tf\n",
    "from tensorflow.keras.models import Sequential,load_model\n",
    "from tensorflow.keras.layers import SimpleRNN,Flatten,LSTM,Dense,Embedding,Dropout\n",
    "from keras.utils import pad_sequences"
   ]
  },
  {
   "cell_type": "markdown",
   "id": "bc4d4fbd",
   "metadata": {
    "id": "bc4d4fbd"
   },
   "source": [
    "### Load Data and Handling Missing Data"
   ]
  },
  {
   "cell_type": "code",
   "execution_count": 8,
   "id": "b2478da0",
   "metadata": {
    "colab": {
     "base_uri": "https://localhost:8080/",
     "height": 424
    },
    "executionInfo": {
     "elapsed": 16,
     "status": "ok",
     "timestamp": 1706331395037,
     "user": {
      "displayName": "Surya Nattarayasamy",
      "userId": "15728084309802203741"
     },
     "user_tz": -330
    },
    "id": "b2478da0",
    "outputId": "e760692c-3429-4c12-879f-6d5806e50e6f"
   },
   "outputs": [
    {
     "data": {
      "text/html": [
       "\n",
       "  <div id=\"df-b5675fbe-8a58-4fdc-9ab4-abd21e261069\" class=\"colab-df-container\">\n",
       "    <div>\n",
       "<style scoped>\n",
       "    .dataframe tbody tr th:only-of-type {\n",
       "        vertical-align: middle;\n",
       "    }\n",
       "\n",
       "    .dataframe tbody tr th {\n",
       "        vertical-align: top;\n",
       "    }\n",
       "\n",
       "    .dataframe thead th {\n",
       "        text-align: right;\n",
       "    }\n",
       "</style>\n",
       "<table border=\"1\" class=\"dataframe\">\n",
       "  <thead>\n",
       "    <tr style=\"text-align: right;\">\n",
       "      <th></th>\n",
       "      <th>text</th>\n",
       "      <th>sentiment</th>\n",
       "    </tr>\n",
       "  </thead>\n",
       "  <tbody>\n",
       "    <tr>\n",
       "      <th>0</th>\n",
       "      <td>I grew up (b. 1965) watching and loving the Th...</td>\n",
       "      <td>0</td>\n",
       "    </tr>\n",
       "    <tr>\n",
       "      <th>1</th>\n",
       "      <td>When I put this movie in my DVD player, and sa...</td>\n",
       "      <td>0</td>\n",
       "    </tr>\n",
       "    <tr>\n",
       "      <th>2</th>\n",
       "      <td>Why do people who do not know what a particula...</td>\n",
       "      <td>0</td>\n",
       "    </tr>\n",
       "    <tr>\n",
       "      <th>3</th>\n",
       "      <td>Even though I have great interest in Biblical ...</td>\n",
       "      <td>0</td>\n",
       "    </tr>\n",
       "    <tr>\n",
       "      <th>4</th>\n",
       "      <td>Im a die hard Dads Army fan and nothing will e...</td>\n",
       "      <td>1</td>\n",
       "    </tr>\n",
       "    <tr>\n",
       "      <th>...</th>\n",
       "      <td>...</td>\n",
       "      <td>...</td>\n",
       "    </tr>\n",
       "    <tr>\n",
       "      <th>39995</th>\n",
       "      <td>\"Western Union\" is something of a forgotten cl...</td>\n",
       "      <td>1</td>\n",
       "    </tr>\n",
       "    <tr>\n",
       "      <th>39996</th>\n",
       "      <td>This movie is an incredible piece of work. It ...</td>\n",
       "      <td>1</td>\n",
       "    </tr>\n",
       "    <tr>\n",
       "      <th>39997</th>\n",
       "      <td>My wife and I watched this movie because we pl...</td>\n",
       "      <td>0</td>\n",
       "    </tr>\n",
       "    <tr>\n",
       "      <th>39998</th>\n",
       "      <td>When I first watched Flatliners, I was amazed....</td>\n",
       "      <td>1</td>\n",
       "    </tr>\n",
       "    <tr>\n",
       "      <th>39999</th>\n",
       "      <td>Why would this film be so good, but only gross...</td>\n",
       "      <td>1</td>\n",
       "    </tr>\n",
       "  </tbody>\n",
       "</table>\n",
       "<p>40000 rows × 2 columns</p>\n",
       "</div>\n",
       "    <div class=\"colab-df-buttons\">\n",
       "\n",
       "  <div class=\"colab-df-container\">\n",
       "    <button class=\"colab-df-convert\" onclick=\"convertToInteractive('df-b5675fbe-8a58-4fdc-9ab4-abd21e261069')\"\n",
       "            title=\"Convert this dataframe to an interactive table.\"\n",
       "            style=\"display:none;\">\n",
       "\n",
       "  <svg xmlns=\"http://www.w3.org/2000/svg\" height=\"24px\" viewBox=\"0 -960 960 960\">\n",
       "    <path d=\"M120-120v-720h720v720H120Zm60-500h600v-160H180v160Zm220 220h160v-160H400v160Zm0 220h160v-160H400v160ZM180-400h160v-160H180v160Zm440 0h160v-160H620v160ZM180-180h160v-160H180v160Zm440 0h160v-160H620v160Z\"/>\n",
       "  </svg>\n",
       "    </button>\n",
       "\n",
       "  <style>\n",
       "    .colab-df-container {\n",
       "      display:flex;\n",
       "      gap: 12px;\n",
       "    }\n",
       "\n",
       "    .colab-df-convert {\n",
       "      background-color: #E8F0FE;\n",
       "      border: none;\n",
       "      border-radius: 50%;\n",
       "      cursor: pointer;\n",
       "      display: none;\n",
       "      fill: #1967D2;\n",
       "      height: 32px;\n",
       "      padding: 0 0 0 0;\n",
       "      width: 32px;\n",
       "    }\n",
       "\n",
       "    .colab-df-convert:hover {\n",
       "      background-color: #E2EBFA;\n",
       "      box-shadow: 0px 1px 2px rgba(60, 64, 67, 0.3), 0px 1px 3px 1px rgba(60, 64, 67, 0.15);\n",
       "      fill: #174EA6;\n",
       "    }\n",
       "\n",
       "    .colab-df-buttons div {\n",
       "      margin-bottom: 4px;\n",
       "    }\n",
       "\n",
       "    [theme=dark] .colab-df-convert {\n",
       "      background-color: #3B4455;\n",
       "      fill: #D2E3FC;\n",
       "    }\n",
       "\n",
       "    [theme=dark] .colab-df-convert:hover {\n",
       "      background-color: #434B5C;\n",
       "      box-shadow: 0px 1px 3px 1px rgba(0, 0, 0, 0.15);\n",
       "      filter: drop-shadow(0px 1px 2px rgba(0, 0, 0, 0.3));\n",
       "      fill: #FFFFFF;\n",
       "    }\n",
       "  </style>\n",
       "\n",
       "    <script>\n",
       "      const buttonEl =\n",
       "        document.querySelector('#df-b5675fbe-8a58-4fdc-9ab4-abd21e261069 button.colab-df-convert');\n",
       "      buttonEl.style.display =\n",
       "        google.colab.kernel.accessAllowed ? 'block' : 'none';\n",
       "\n",
       "      async function convertToInteractive(key) {\n",
       "        const element = document.querySelector('#df-b5675fbe-8a58-4fdc-9ab4-abd21e261069');\n",
       "        const dataTable =\n",
       "          await google.colab.kernel.invokeFunction('convertToInteractive',\n",
       "                                                    [key], {});\n",
       "        if (!dataTable) return;\n",
       "\n",
       "        const docLinkHtml = 'Like what you see? Visit the ' +\n",
       "          '<a target=\"_blank\" href=https://colab.research.google.com/notebooks/data_table.ipynb>data table notebook</a>'\n",
       "          + ' to learn more about interactive tables.';\n",
       "        element.innerHTML = '';\n",
       "        dataTable['output_type'] = 'display_data';\n",
       "        await google.colab.output.renderOutput(dataTable, element);\n",
       "        const docLink = document.createElement('div');\n",
       "        docLink.innerHTML = docLinkHtml;\n",
       "        element.appendChild(docLink);\n",
       "      }\n",
       "    </script>\n",
       "  </div>\n",
       "\n",
       "\n",
       "<div id=\"df-cdfc85c6-cf84-443d-a2e0-43a7c37d33e9\">\n",
       "  <button class=\"colab-df-quickchart\" onclick=\"quickchart('df-cdfc85c6-cf84-443d-a2e0-43a7c37d33e9')\"\n",
       "            title=\"Suggest charts\"\n",
       "            style=\"display:none;\">\n",
       "\n",
       "<svg xmlns=\"http://www.w3.org/2000/svg\" height=\"24px\"viewBox=\"0 0 24 24\"\n",
       "     width=\"24px\">\n",
       "    <g>\n",
       "        <path d=\"M19 3H5c-1.1 0-2 .9-2 2v14c0 1.1.9 2 2 2h14c1.1 0 2-.9 2-2V5c0-1.1-.9-2-2-2zM9 17H7v-7h2v7zm4 0h-2V7h2v10zm4 0h-2v-4h2v4z\"/>\n",
       "    </g>\n",
       "</svg>\n",
       "  </button>\n",
       "\n",
       "<style>\n",
       "  .colab-df-quickchart {\n",
       "      --bg-color: #E8F0FE;\n",
       "      --fill-color: #1967D2;\n",
       "      --hover-bg-color: #E2EBFA;\n",
       "      --hover-fill-color: #174EA6;\n",
       "      --disabled-fill-color: #AAA;\n",
       "      --disabled-bg-color: #DDD;\n",
       "  }\n",
       "\n",
       "  [theme=dark] .colab-df-quickchart {\n",
       "      --bg-color: #3B4455;\n",
       "      --fill-color: #D2E3FC;\n",
       "      --hover-bg-color: #434B5C;\n",
       "      --hover-fill-color: #FFFFFF;\n",
       "      --disabled-bg-color: #3B4455;\n",
       "      --disabled-fill-color: #666;\n",
       "  }\n",
       "\n",
       "  .colab-df-quickchart {\n",
       "    background-color: var(--bg-color);\n",
       "    border: none;\n",
       "    border-radius: 50%;\n",
       "    cursor: pointer;\n",
       "    display: none;\n",
       "    fill: var(--fill-color);\n",
       "    height: 32px;\n",
       "    padding: 0;\n",
       "    width: 32px;\n",
       "  }\n",
       "\n",
       "  .colab-df-quickchart:hover {\n",
       "    background-color: var(--hover-bg-color);\n",
       "    box-shadow: 0 1px 2px rgba(60, 64, 67, 0.3), 0 1px 3px 1px rgba(60, 64, 67, 0.15);\n",
       "    fill: var(--button-hover-fill-color);\n",
       "  }\n",
       "\n",
       "  .colab-df-quickchart-complete:disabled,\n",
       "  .colab-df-quickchart-complete:disabled:hover {\n",
       "    background-color: var(--disabled-bg-color);\n",
       "    fill: var(--disabled-fill-color);\n",
       "    box-shadow: none;\n",
       "  }\n",
       "\n",
       "  .colab-df-spinner {\n",
       "    border: 2px solid var(--fill-color);\n",
       "    border-color: transparent;\n",
       "    border-bottom-color: var(--fill-color);\n",
       "    animation:\n",
       "      spin 1s steps(1) infinite;\n",
       "  }\n",
       "\n",
       "  @keyframes spin {\n",
       "    0% {\n",
       "      border-color: transparent;\n",
       "      border-bottom-color: var(--fill-color);\n",
       "      border-left-color: var(--fill-color);\n",
       "    }\n",
       "    20% {\n",
       "      border-color: transparent;\n",
       "      border-left-color: var(--fill-color);\n",
       "      border-top-color: var(--fill-color);\n",
       "    }\n",
       "    30% {\n",
       "      border-color: transparent;\n",
       "      border-left-color: var(--fill-color);\n",
       "      border-top-color: var(--fill-color);\n",
       "      border-right-color: var(--fill-color);\n",
       "    }\n",
       "    40% {\n",
       "      border-color: transparent;\n",
       "      border-right-color: var(--fill-color);\n",
       "      border-top-color: var(--fill-color);\n",
       "    }\n",
       "    60% {\n",
       "      border-color: transparent;\n",
       "      border-right-color: var(--fill-color);\n",
       "    }\n",
       "    80% {\n",
       "      border-color: transparent;\n",
       "      border-right-color: var(--fill-color);\n",
       "      border-bottom-color: var(--fill-color);\n",
       "    }\n",
       "    90% {\n",
       "      border-color: transparent;\n",
       "      border-bottom-color: var(--fill-color);\n",
       "    }\n",
       "  }\n",
       "</style>\n",
       "\n",
       "  <script>\n",
       "    async function quickchart(key) {\n",
       "      const quickchartButtonEl =\n",
       "        document.querySelector('#' + key + ' button');\n",
       "      quickchartButtonEl.disabled = true;  // To prevent multiple clicks.\n",
       "      quickchartButtonEl.classList.add('colab-df-spinner');\n",
       "      try {\n",
       "        const charts = await google.colab.kernel.invokeFunction(\n",
       "            'suggestCharts', [key], {});\n",
       "      } catch (error) {\n",
       "        console.error('Error during call to suggestCharts:', error);\n",
       "      }\n",
       "      quickchartButtonEl.classList.remove('colab-df-spinner');\n",
       "      quickchartButtonEl.classList.add('colab-df-quickchart-complete');\n",
       "    }\n",
       "    (() => {\n",
       "      let quickchartButtonEl =\n",
       "        document.querySelector('#df-cdfc85c6-cf84-443d-a2e0-43a7c37d33e9 button');\n",
       "      quickchartButtonEl.style.display =\n",
       "        google.colab.kernel.accessAllowed ? 'block' : 'none';\n",
       "    })();\n",
       "  </script>\n",
       "</div>\n",
       "\n",
       "  <div id=\"id_c755b3d6-5586-4fe2-a9dc-ae7e2924f354\">\n",
       "    <style>\n",
       "      .colab-df-generate {\n",
       "        background-color: #E8F0FE;\n",
       "        border: none;\n",
       "        border-radius: 50%;\n",
       "        cursor: pointer;\n",
       "        display: none;\n",
       "        fill: #1967D2;\n",
       "        height: 32px;\n",
       "        padding: 0 0 0 0;\n",
       "        width: 32px;\n",
       "      }\n",
       "\n",
       "      .colab-df-generate:hover {\n",
       "        background-color: #E2EBFA;\n",
       "        box-shadow: 0px 1px 2px rgba(60, 64, 67, 0.3), 0px 1px 3px 1px rgba(60, 64, 67, 0.15);\n",
       "        fill: #174EA6;\n",
       "      }\n",
       "\n",
       "      [theme=dark] .colab-df-generate {\n",
       "        background-color: #3B4455;\n",
       "        fill: #D2E3FC;\n",
       "      }\n",
       "\n",
       "      [theme=dark] .colab-df-generate:hover {\n",
       "        background-color: #434B5C;\n",
       "        box-shadow: 0px 1px 3px 1px rgba(0, 0, 0, 0.15);\n",
       "        filter: drop-shadow(0px 1px 2px rgba(0, 0, 0, 0.3));\n",
       "        fill: #FFFFFF;\n",
       "      }\n",
       "    </style>\n",
       "    <button class=\"colab-df-generate\" onclick=\"generateWithVariable('df')\"\n",
       "            title=\"Generate code using this dataframe.\"\n",
       "            style=\"display:none;\">\n",
       "\n",
       "  <svg xmlns=\"http://www.w3.org/2000/svg\" height=\"24px\"viewBox=\"0 0 24 24\"\n",
       "       width=\"24px\">\n",
       "    <path d=\"M7,19H8.4L18.45,9,17,7.55,7,17.6ZM5,21V16.75L18.45,3.32a2,2,0,0,1,2.83,0l1.4,1.43a1.91,1.91,0,0,1,.58,1.4,1.91,1.91,0,0,1-.58,1.4L9.25,21ZM18.45,9,17,7.55Zm-12,3A5.31,5.31,0,0,0,4.9,8.1,5.31,5.31,0,0,0,1,6.5,5.31,5.31,0,0,0,4.9,4.9,5.31,5.31,0,0,0,6.5,1,5.31,5.31,0,0,0,8.1,4.9,5.31,5.31,0,0,0,12,6.5,5.46,5.46,0,0,0,6.5,12Z\"/>\n",
       "  </svg>\n",
       "    </button>\n",
       "    <script>\n",
       "      (() => {\n",
       "      const buttonEl =\n",
       "        document.querySelector('#id_c755b3d6-5586-4fe2-a9dc-ae7e2924f354 button.colab-df-generate');\n",
       "      buttonEl.style.display =\n",
       "        google.colab.kernel.accessAllowed ? 'block' : 'none';\n",
       "\n",
       "      buttonEl.onclick = () => {\n",
       "        google.colab.notebook.generateWithVariable('df');\n",
       "      }\n",
       "      })();\n",
       "    </script>\n",
       "  </div>\n",
       "\n",
       "    </div>\n",
       "  </div>\n"
      ],
      "text/plain": [
       "                                                    text  sentiment\n",
       "0      I grew up (b. 1965) watching and loving the Th...          0\n",
       "1      When I put this movie in my DVD player, and sa...          0\n",
       "2      Why do people who do not know what a particula...          0\n",
       "3      Even though I have great interest in Biblical ...          0\n",
       "4      Im a die hard Dads Army fan and nothing will e...          1\n",
       "...                                                  ...        ...\n",
       "39995  \"Western Union\" is something of a forgotten cl...          1\n",
       "39996  This movie is an incredible piece of work. It ...          1\n",
       "39997  My wife and I watched this movie because we pl...          0\n",
       "39998  When I first watched Flatliners, I was amazed....          1\n",
       "39999  Why would this film be so good, but only gross...          1\n",
       "\n",
       "[40000 rows x 2 columns]"
      ]
     },
     "execution_count": 8,
     "metadata": {},
     "output_type": "execute_result"
    }
   ],
   "source": [
    "df = pd.read_csv(\"D:\\\\chrome downloads\\\\archive\\\\movie.csv\")\n",
    "df.dropna(subset=['text'], inplace=True)\n",
    "df"
   ]
  },
  {
   "cell_type": "code",
   "execution_count": 9,
   "id": "3cad374a",
   "metadata": {
    "colab": {
     "base_uri": "https://localhost:8080/"
    },
    "executionInfo": {
     "elapsed": 15,
     "status": "ok",
     "timestamp": 1706331395038,
     "user": {
      "displayName": "Surya Nattarayasamy",
      "userId": "15728084309802203741"
     },
     "user_tz": -330
    },
    "id": "3cad374a",
    "outputId": "313ab47c-d370-4fcc-933a-8df7f18e9379"
   },
   "outputs": [
    {
     "name": "stdout",
     "output_type": "stream",
     "text": [
      "<class 'pandas.core.frame.DataFrame'>\n",
      "Int64Index: 40000 entries, 32823 to 15795\n",
      "Data columns (total 2 columns):\n",
      " #   Column     Non-Null Count  Dtype \n",
      "---  ------     --------------  ----- \n",
      " 0   text       40000 non-null  object\n",
      " 1   sentiment  40000 non-null  int64 \n",
      "dtypes: int64(1), object(1)\n",
      "memory usage: 937.5+ KB\n"
     ]
    }
   ],
   "source": [
    "df_shuffled = shuffle(df, random_state=42)\n",
    "df_shuffled.info()"
   ]
  },
  {
   "cell_type": "code",
   "execution_count": 10,
   "id": "0d8e2e0f",
   "metadata": {
    "colab": {
     "base_uri": "https://localhost:8080/"
    },
    "executionInfo": {
     "elapsed": 13,
     "status": "ok",
     "timestamp": 1706331395038,
     "user": {
      "displayName": "Surya Nattarayasamy",
      "userId": "15728084309802203741"
     },
     "user_tz": -330
    },
    "id": "0d8e2e0f",
    "outputId": "c0bf7bb9-5020-4791-bc19-9be5413dec27"
   },
   "outputs": [
    {
     "name": "stdout",
     "output_type": "stream",
     "text": [
      "0    20019\n",
      "1    19981\n",
      "Name: sentiment, dtype: int64\n"
     ]
    }
   ],
   "source": [
    "print(df_shuffled['sentiment'].value_counts())"
   ]
  },
  {
   "cell_type": "markdown",
   "id": "f28b47db",
   "metadata": {
    "id": "f28b47db"
   },
   "source": [
    "### Text Preprocessing"
   ]
  },
  {
   "cell_type": "code",
   "execution_count": 11,
   "id": "7d98a083",
   "metadata": {
    "executionInfo": {
     "elapsed": 9,
     "status": "ok",
     "timestamp": 1706331395038,
     "user": {
      "displayName": "Surya Nattarayasamy",
      "userId": "15728084309802203741"
     },
     "user_tz": -330
    },
    "id": "7d98a083"
   },
   "outputs": [],
   "source": [
    "def func_1(text):\n",
    "    stop_words=set(stopwords.words('english'))\n",
    "    lemmatizer=WordNetLemmatizer()\n",
    "\n",
    "    cleaned_string = re.sub(r'[-_.,;:\\'\"#<>\\/$=&@*!)(}{?\\d]', '', text)\n",
    "    cleaned_string = cleaned_string.lower()\n",
    "\n",
    "    cleaned_string = ' '.join([i for i in cleaned_string.split() if i not in stop_words])\n",
    "\n",
    "    lemmatized_words = [lemmatizer.lemmatize(word) for word in cleaned_string.split()]\n",
    "    lemmatized_string = ' '.join(lemmatized_words)\n",
    "\n",
    "    return lemmatized_string"
   ]
  },
  {
   "cell_type": "code",
   "execution_count": 13,
   "id": "3d35ad10",
   "metadata": {
    "colab": {
     "base_uri": "https://localhost:8080/",
     "height": 424
    },
    "executionInfo": {
     "elapsed": 36565,
     "status": "ok",
     "timestamp": 1706331431598,
     "user": {
      "displayName": "Surya Nattarayasamy",
      "userId": "15728084309802203741"
     },
     "user_tz": -330
    },
    "id": "3d35ad10",
    "outputId": "214bf6c9-f1af-40f5-df09-2b5376f5f1a6"
   },
   "outputs": [
    {
     "data": {
      "text/html": [
       "\n",
       "  <div id=\"df-f00f69f8-8b88-44be-bc51-9153e4452573\" class=\"colab-df-container\">\n",
       "    <div>\n",
       "<style scoped>\n",
       "    .dataframe tbody tr th:only-of-type {\n",
       "        vertical-align: middle;\n",
       "    }\n",
       "\n",
       "    .dataframe tbody tr th {\n",
       "        vertical-align: top;\n",
       "    }\n",
       "\n",
       "    .dataframe thead th {\n",
       "        text-align: right;\n",
       "    }\n",
       "</style>\n",
       "<table border=\"1\" class=\"dataframe\">\n",
       "  <thead>\n",
       "    <tr style=\"text-align: right;\">\n",
       "      <th></th>\n",
       "      <th>text</th>\n",
       "      <th>sentiment</th>\n",
       "    </tr>\n",
       "  </thead>\n",
       "  <tbody>\n",
       "    <tr>\n",
       "      <th>32823</th>\n",
       "      <td>central theme movie seems confusion relationsh...</td>\n",
       "      <td>0</td>\n",
       "    </tr>\n",
       "    <tr>\n",
       "      <th>16298</th>\n",
       "      <td>excellent example cowboy noir called unemploye...</td>\n",
       "      <td>1</td>\n",
       "    </tr>\n",
       "    <tr>\n",
       "      <th>28505</th>\n",
       "      <td>ending made heart jump throat proceeded leave ...</td>\n",
       "      <td>0</td>\n",
       "    </tr>\n",
       "    <tr>\n",
       "      <th>6689</th>\n",
       "      <td>chosen one appreciate quality story character ...</td>\n",
       "      <td>1</td>\n",
       "    </tr>\n",
       "    <tr>\n",
       "      <th>26893</th>\n",
       "      <td>really funny film especially second third four...</td>\n",
       "      <td>1</td>\n",
       "    </tr>\n",
       "    <tr>\n",
       "      <th>...</th>\n",
       "      <td>...</td>\n",
       "      <td>...</td>\n",
       "    </tr>\n",
       "    <tr>\n",
       "      <th>6265</th>\n",
       "      <td>movie one worst movie ever seen life waste tim...</td>\n",
       "      <td>0</td>\n",
       "    </tr>\n",
       "    <tr>\n",
       "      <th>11284</th>\n",
       "      <td>movie inspiring anyone tough jam whether finan...</td>\n",
       "      <td>1</td>\n",
       "    </tr>\n",
       "    <tr>\n",
       "      <th>38158</th>\n",
       "      <td>east side story documentary musical comedy sta...</td>\n",
       "      <td>1</td>\n",
       "    </tr>\n",
       "    <tr>\n",
       "      <th>860</th>\n",
       "      <td>selfadmitted one boot one point doctor assista...</td>\n",
       "      <td>0</td>\n",
       "    </tr>\n",
       "    <tr>\n",
       "      <th>15795</th>\n",
       "      <td>movie horrible lighting terrible camera moveme...</td>\n",
       "      <td>0</td>\n",
       "    </tr>\n",
       "  </tbody>\n",
       "</table>\n",
       "<p>40000 rows × 2 columns</p>\n",
       "</div>\n",
       "    <div class=\"colab-df-buttons\">\n",
       "\n",
       "  <div class=\"colab-df-container\">\n",
       "    <button class=\"colab-df-convert\" onclick=\"convertToInteractive('df-f00f69f8-8b88-44be-bc51-9153e4452573')\"\n",
       "            title=\"Convert this dataframe to an interactive table.\"\n",
       "            style=\"display:none;\">\n",
       "\n",
       "  <svg xmlns=\"http://www.w3.org/2000/svg\" height=\"24px\" viewBox=\"0 -960 960 960\">\n",
       "    <path d=\"M120-120v-720h720v720H120Zm60-500h600v-160H180v160Zm220 220h160v-160H400v160Zm0 220h160v-160H400v160ZM180-400h160v-160H180v160Zm440 0h160v-160H620v160ZM180-180h160v-160H180v160Zm440 0h160v-160H620v160Z\"/>\n",
       "  </svg>\n",
       "    </button>\n",
       "\n",
       "  <style>\n",
       "    .colab-df-container {\n",
       "      display:flex;\n",
       "      gap: 12px;\n",
       "    }\n",
       "\n",
       "    .colab-df-convert {\n",
       "      background-color: #E8F0FE;\n",
       "      border: none;\n",
       "      border-radius: 50%;\n",
       "      cursor: pointer;\n",
       "      display: none;\n",
       "      fill: #1967D2;\n",
       "      height: 32px;\n",
       "      padding: 0 0 0 0;\n",
       "      width: 32px;\n",
       "    }\n",
       "\n",
       "    .colab-df-convert:hover {\n",
       "      background-color: #E2EBFA;\n",
       "      box-shadow: 0px 1px 2px rgba(60, 64, 67, 0.3), 0px 1px 3px 1px rgba(60, 64, 67, 0.15);\n",
       "      fill: #174EA6;\n",
       "    }\n",
       "\n",
       "    .colab-df-buttons div {\n",
       "      margin-bottom: 4px;\n",
       "    }\n",
       "\n",
       "    [theme=dark] .colab-df-convert {\n",
       "      background-color: #3B4455;\n",
       "      fill: #D2E3FC;\n",
       "    }\n",
       "\n",
       "    [theme=dark] .colab-df-convert:hover {\n",
       "      background-color: #434B5C;\n",
       "      box-shadow: 0px 1px 3px 1px rgba(0, 0, 0, 0.15);\n",
       "      filter: drop-shadow(0px 1px 2px rgba(0, 0, 0, 0.3));\n",
       "      fill: #FFFFFF;\n",
       "    }\n",
       "  </style>\n",
       "\n",
       "    <script>\n",
       "      const buttonEl =\n",
       "        document.querySelector('#df-f00f69f8-8b88-44be-bc51-9153e4452573 button.colab-df-convert');\n",
       "      buttonEl.style.display =\n",
       "        google.colab.kernel.accessAllowed ? 'block' : 'none';\n",
       "\n",
       "      async function convertToInteractive(key) {\n",
       "        const element = document.querySelector('#df-f00f69f8-8b88-44be-bc51-9153e4452573');\n",
       "        const dataTable =\n",
       "          await google.colab.kernel.invokeFunction('convertToInteractive',\n",
       "                                                    [key], {});\n",
       "        if (!dataTable) return;\n",
       "\n",
       "        const docLinkHtml = 'Like what you see? Visit the ' +\n",
       "          '<a target=\"_blank\" href=https://colab.research.google.com/notebooks/data_table.ipynb>data table notebook</a>'\n",
       "          + ' to learn more about interactive tables.';\n",
       "        element.innerHTML = '';\n",
       "        dataTable['output_type'] = 'display_data';\n",
       "        await google.colab.output.renderOutput(dataTable, element);\n",
       "        const docLink = document.createElement('div');\n",
       "        docLink.innerHTML = docLinkHtml;\n",
       "        element.appendChild(docLink);\n",
       "      }\n",
       "    </script>\n",
       "  </div>\n",
       "\n",
       "\n",
       "<div id=\"df-eb32e38b-4457-478d-ac36-a8b8f4b2bc1d\">\n",
       "  <button class=\"colab-df-quickchart\" onclick=\"quickchart('df-eb32e38b-4457-478d-ac36-a8b8f4b2bc1d')\"\n",
       "            title=\"Suggest charts\"\n",
       "            style=\"display:none;\">\n",
       "\n",
       "<svg xmlns=\"http://www.w3.org/2000/svg\" height=\"24px\"viewBox=\"0 0 24 24\"\n",
       "     width=\"24px\">\n",
       "    <g>\n",
       "        <path d=\"M19 3H5c-1.1 0-2 .9-2 2v14c0 1.1.9 2 2 2h14c1.1 0 2-.9 2-2V5c0-1.1-.9-2-2-2zM9 17H7v-7h2v7zm4 0h-2V7h2v10zm4 0h-2v-4h2v4z\"/>\n",
       "    </g>\n",
       "</svg>\n",
       "  </button>\n",
       "\n",
       "<style>\n",
       "  .colab-df-quickchart {\n",
       "      --bg-color: #E8F0FE;\n",
       "      --fill-color: #1967D2;\n",
       "      --hover-bg-color: #E2EBFA;\n",
       "      --hover-fill-color: #174EA6;\n",
       "      --disabled-fill-color: #AAA;\n",
       "      --disabled-bg-color: #DDD;\n",
       "  }\n",
       "\n",
       "  [theme=dark] .colab-df-quickchart {\n",
       "      --bg-color: #3B4455;\n",
       "      --fill-color: #D2E3FC;\n",
       "      --hover-bg-color: #434B5C;\n",
       "      --hover-fill-color: #FFFFFF;\n",
       "      --disabled-bg-color: #3B4455;\n",
       "      --disabled-fill-color: #666;\n",
       "  }\n",
       "\n",
       "  .colab-df-quickchart {\n",
       "    background-color: var(--bg-color);\n",
       "    border: none;\n",
       "    border-radius: 50%;\n",
       "    cursor: pointer;\n",
       "    display: none;\n",
       "    fill: var(--fill-color);\n",
       "    height: 32px;\n",
       "    padding: 0;\n",
       "    width: 32px;\n",
       "  }\n",
       "\n",
       "  .colab-df-quickchart:hover {\n",
       "    background-color: var(--hover-bg-color);\n",
       "    box-shadow: 0 1px 2px rgba(60, 64, 67, 0.3), 0 1px 3px 1px rgba(60, 64, 67, 0.15);\n",
       "    fill: var(--button-hover-fill-color);\n",
       "  }\n",
       "\n",
       "  .colab-df-quickchart-complete:disabled,\n",
       "  .colab-df-quickchart-complete:disabled:hover {\n",
       "    background-color: var(--disabled-bg-color);\n",
       "    fill: var(--disabled-fill-color);\n",
       "    box-shadow: none;\n",
       "  }\n",
       "\n",
       "  .colab-df-spinner {\n",
       "    border: 2px solid var(--fill-color);\n",
       "    border-color: transparent;\n",
       "    border-bottom-color: var(--fill-color);\n",
       "    animation:\n",
       "      spin 1s steps(1) infinite;\n",
       "  }\n",
       "\n",
       "  @keyframes spin {\n",
       "    0% {\n",
       "      border-color: transparent;\n",
       "      border-bottom-color: var(--fill-color);\n",
       "      border-left-color: var(--fill-color);\n",
       "    }\n",
       "    20% {\n",
       "      border-color: transparent;\n",
       "      border-left-color: var(--fill-color);\n",
       "      border-top-color: var(--fill-color);\n",
       "    }\n",
       "    30% {\n",
       "      border-color: transparent;\n",
       "      border-left-color: var(--fill-color);\n",
       "      border-top-color: var(--fill-color);\n",
       "      border-right-color: var(--fill-color);\n",
       "    }\n",
       "    40% {\n",
       "      border-color: transparent;\n",
       "      border-right-color: var(--fill-color);\n",
       "      border-top-color: var(--fill-color);\n",
       "    }\n",
       "    60% {\n",
       "      border-color: transparent;\n",
       "      border-right-color: var(--fill-color);\n",
       "    }\n",
       "    80% {\n",
       "      border-color: transparent;\n",
       "      border-right-color: var(--fill-color);\n",
       "      border-bottom-color: var(--fill-color);\n",
       "    }\n",
       "    90% {\n",
       "      border-color: transparent;\n",
       "      border-bottom-color: var(--fill-color);\n",
       "    }\n",
       "  }\n",
       "</style>\n",
       "\n",
       "  <script>\n",
       "    async function quickchart(key) {\n",
       "      const quickchartButtonEl =\n",
       "        document.querySelector('#' + key + ' button');\n",
       "      quickchartButtonEl.disabled = true;  // To prevent multiple clicks.\n",
       "      quickchartButtonEl.classList.add('colab-df-spinner');\n",
       "      try {\n",
       "        const charts = await google.colab.kernel.invokeFunction(\n",
       "            'suggestCharts', [key], {});\n",
       "      } catch (error) {\n",
       "        console.error('Error during call to suggestCharts:', error);\n",
       "      }\n",
       "      quickchartButtonEl.classList.remove('colab-df-spinner');\n",
       "      quickchartButtonEl.classList.add('colab-df-quickchart-complete');\n",
       "    }\n",
       "    (() => {\n",
       "      let quickchartButtonEl =\n",
       "        document.querySelector('#df-eb32e38b-4457-478d-ac36-a8b8f4b2bc1d button');\n",
       "      quickchartButtonEl.style.display =\n",
       "        google.colab.kernel.accessAllowed ? 'block' : 'none';\n",
       "    })();\n",
       "  </script>\n",
       "</div>\n",
       "\n",
       "  <div id=\"id_39aaf29c-c51a-44fa-93db-025f9402148e\">\n",
       "    <style>\n",
       "      .colab-df-generate {\n",
       "        background-color: #E8F0FE;\n",
       "        border: none;\n",
       "        border-radius: 50%;\n",
       "        cursor: pointer;\n",
       "        display: none;\n",
       "        fill: #1967D2;\n",
       "        height: 32px;\n",
       "        padding: 0 0 0 0;\n",
       "        width: 32px;\n",
       "      }\n",
       "\n",
       "      .colab-df-generate:hover {\n",
       "        background-color: #E2EBFA;\n",
       "        box-shadow: 0px 1px 2px rgba(60, 64, 67, 0.3), 0px 1px 3px 1px rgba(60, 64, 67, 0.15);\n",
       "        fill: #174EA6;\n",
       "      }\n",
       "\n",
       "      [theme=dark] .colab-df-generate {\n",
       "        background-color: #3B4455;\n",
       "        fill: #D2E3FC;\n",
       "      }\n",
       "\n",
       "      [theme=dark] .colab-df-generate:hover {\n",
       "        background-color: #434B5C;\n",
       "        box-shadow: 0px 1px 3px 1px rgba(0, 0, 0, 0.15);\n",
       "        filter: drop-shadow(0px 1px 2px rgba(0, 0, 0, 0.3));\n",
       "        fill: #FFFFFF;\n",
       "      }\n",
       "    </style>\n",
       "    <button class=\"colab-df-generate\" onclick=\"generateWithVariable('df_shuffled')\"\n",
       "            title=\"Generate code using this dataframe.\"\n",
       "            style=\"display:none;\">\n",
       "\n",
       "  <svg xmlns=\"http://www.w3.org/2000/svg\" height=\"24px\"viewBox=\"0 0 24 24\"\n",
       "       width=\"24px\">\n",
       "    <path d=\"M7,19H8.4L18.45,9,17,7.55,7,17.6ZM5,21V16.75L18.45,3.32a2,2,0,0,1,2.83,0l1.4,1.43a1.91,1.91,0,0,1,.58,1.4,1.91,1.91,0,0,1-.58,1.4L9.25,21ZM18.45,9,17,7.55Zm-12,3A5.31,5.31,0,0,0,4.9,8.1,5.31,5.31,0,0,0,1,6.5,5.31,5.31,0,0,0,4.9,4.9,5.31,5.31,0,0,0,6.5,1,5.31,5.31,0,0,0,8.1,4.9,5.31,5.31,0,0,0,12,6.5,5.46,5.46,0,0,0,6.5,12Z\"/>\n",
       "  </svg>\n",
       "    </button>\n",
       "    <script>\n",
       "      (() => {\n",
       "      const buttonEl =\n",
       "        document.querySelector('#id_39aaf29c-c51a-44fa-93db-025f9402148e button.colab-df-generate');\n",
       "      buttonEl.style.display =\n",
       "        google.colab.kernel.accessAllowed ? 'block' : 'none';\n",
       "\n",
       "      buttonEl.onclick = () => {\n",
       "        google.colab.notebook.generateWithVariable('df_shuffled');\n",
       "      }\n",
       "      })();\n",
       "    </script>\n",
       "  </div>\n",
       "\n",
       "    </div>\n",
       "  </div>\n"
      ],
      "text/plain": [
       "                                                    text  sentiment\n",
       "32823  central theme movie seems confusion relationsh...          0\n",
       "16298  excellent example cowboy noir called unemploye...          1\n",
       "28505  ending made heart jump throat proceeded leave ...          0\n",
       "6689   chosen one appreciate quality story character ...          1\n",
       "26893  really funny film especially second third four...          1\n",
       "...                                                  ...        ...\n",
       "6265   movie one worst movie ever seen life waste tim...          0\n",
       "11284  movie inspiring anyone tough jam whether finan...          1\n",
       "38158  east side story documentary musical comedy sta...          1\n",
       "860    selfadmitted one boot one point doctor assista...          0\n",
       "15795  movie horrible lighting terrible camera moveme...          0\n",
       "\n",
       "[40000 rows x 2 columns]"
      ]
     },
     "execution_count": 13,
     "metadata": {},
     "output_type": "execute_result"
    }
   ],
   "source": [
    "df_shuffled['text']=df_shuffled['text'].apply(lambda i: func_1(i))\n",
    "df_shuffled"
   ]
  },
  {
   "cell_type": "markdown",
   "id": "d041cc04",
   "metadata": {
    "id": "d041cc04"
   },
   "source": [
    "### Spliting the Data"
   ]
  },
  {
   "cell_type": "code",
   "execution_count": 14,
   "id": "cd713ac5",
   "metadata": {
    "colab": {
     "base_uri": "https://localhost:8080/"
    },
    "executionInfo": {
     "elapsed": 13,
     "status": "ok",
     "timestamp": 1706331431598,
     "user": {
      "displayName": "Surya Nattarayasamy",
      "userId": "15728084309802203741"
     },
     "user_tz": -330
    },
    "id": "cd713ac5",
    "outputId": "7816ba66-022c-4b0f-f809-4ad79207bad9"
   },
   "outputs": [
    {
     "name": "stdout",
     "output_type": "stream",
     "text": [
      "Info for Train Dataset:\n",
      "<class 'pandas.core.frame.DataFrame'>\n",
      "Int64Index: 27999 entries, 113 to 28936\n",
      "Data columns (total 2 columns):\n",
      " #   Column     Non-Null Count  Dtype \n",
      "---  ------     --------------  ----- \n",
      " 0   text       27999 non-null  object\n",
      " 1   sentiment  27999 non-null  int64 \n",
      "dtypes: int64(1), object(1)\n",
      "memory usage: 656.2+ KB\n",
      "None\n",
      "******\n",
      "Info for Test Dataset:\n",
      "<class 'pandas.core.frame.DataFrame'>\n",
      "Int64Index: 12001 entries, 5807 to 15388\n",
      "Data columns (total 2 columns):\n",
      " #   Column     Non-Null Count  Dtype \n",
      "---  ------     --------------  ----- \n",
      " 0   text       12001 non-null  object\n",
      " 1   sentiment  12001 non-null  int64 \n",
      "dtypes: int64(1), object(1)\n",
      "memory usage: 281.3+ KB\n",
      "None\n"
     ]
    }
   ],
   "source": [
    "warnings.filterwarnings(\"ignore\")\n",
    "\n",
    "train_ratio = 0.7\n",
    "df_train, df_test = train_test_split(df_shuffled, test_size=(1 - train_ratio), random_state=50)\n",
    "\n",
    "print(\"Info for Train Dataset:\")\n",
    "print(df_train.info())\n",
    "\n",
    "print(\"******\")\n",
    "\n",
    "print(\"Info for Test Dataset:\")\n",
    "print(df_test.info())"
   ]
  },
  {
   "cell_type": "code",
   "execution_count": 15,
   "id": "079e40bb",
   "metadata": {
    "colab": {
     "base_uri": "https://localhost:8080/"
    },
    "executionInfo": {
     "elapsed": 10,
     "status": "ok",
     "timestamp": 1706331431599,
     "user": {
      "displayName": "Surya Nattarayasamy",
      "userId": "15728084309802203741"
     },
     "user_tz": -330
    },
    "id": "079e40bb",
    "outputId": "8fa2ba67-09a4-4dd7-f03e-850d3f564ccb"
   },
   "outputs": [
    {
     "name": "stdout",
     "output_type": "stream",
     "text": [
      "western done different manner others realism key conchata farrell come wyoming work rip torn ranch presented make interesting slice americana would preferred see big screen rather tape worth look see life back real west cinematography excellent solid torn farrell excel movie\n",
      "[1 1 0 ... 0 1 1]\n"
     ]
    }
   ],
   "source": [
    "x_train = np.array(df_train['text'].values)\n",
    "y_train = np.array(df_train['sentiment'].values)\n",
    "x_test = np.array(df_test['text'].values)\n",
    "y_test = np.array(df_test['sentiment'].values)\n",
    "print(x_train[0])\n",
    "print(y_train)"
   ]
  },
  {
   "cell_type": "markdown",
   "id": "5a1409ad",
   "metadata": {
    "id": "5a1409ad"
   },
   "source": [
    "### No of features"
   ]
  },
  {
   "cell_type": "code",
   "execution_count": 16,
   "id": "dB4up9ROQHtT",
   "metadata": {
    "colab": {
     "base_uri": "https://localhost:8080/"
    },
    "executionInfo": {
     "elapsed": 4215,
     "status": "ok",
     "timestamp": 1706331435807,
     "user": {
      "displayName": "Surya Nattarayasamy",
      "userId": "15728084309802203741"
     },
     "user_tz": -330
    },
    "id": "dB4up9ROQHtT",
    "outputId": "84de8f2a-5376-47d8-b7b5-551b16852c89"
   },
   "outputs": [
    {
     "name": "stdout",
     "output_type": "stream",
     "text": [
      "Total no of features 144957\n"
     ]
    }
   ],
   "source": [
    "count_vect=CountVectorizer()\n",
    "feature_vector=count_vect.fit(df_shuffled.text)\n",
    "\n",
    "features=feature_vector.get_feature_names_out()\n",
    "\n",
    "print('Total no of features',len(features))"
   ]
  },
  {
   "cell_type": "markdown",
   "id": "86d400c6",
   "metadata": {
    "id": "86d400c6"
   },
   "source": [
    "### Tokenization"
   ]
  },
  {
   "cell_type": "code",
   "execution_count": 17,
   "id": "2747e29c",
   "metadata": {
    "colab": {
     "base_uri": "https://localhost:8080/",
     "height": 192
    },
    "executionInfo": {
     "elapsed": 5189,
     "status": "ok",
     "timestamp": 1706331440975,
     "user": {
      "displayName": "Surya Nattarayasamy",
      "userId": "15728084309802203741"
     },
     "user_tz": -330
    },
    "id": "2747e29c",
    "outputId": "df803423-5f78-4f11-cf3c-71157254b6c6"
   },
   "outputs": [
    {
     "data": {
      "application/vnd.google.colaboratory.intrinsic+json": {
       "type": "string"
      },
      "text/plain": [
       "'understand others reacted rather unpleasantly towards climax yielding twist really hard take seriously think though buildup work rather well music quite menacing spinetingling really provides spooky aura matching unforgiving sound constant ringing telephone driving struggling english actress joan matlinjean marshbonkers shes borrowing pal nice apartment attempting jumpstart career new york citythe city building outside window look realistic david lettermansand unceremoniously welcome noisy telephone ring quite bit followed loud slam wall searching answer regarding one responsible disregard towards sanity joan discovers one rent room former tenant fact strangled without help manager joan decide find causing anguish joan discovers room empty phone particular female voice haunt herbr br episode think tourdeforce jean marsh one woman show shes actress visible follow crisis slowly erodes phone banging room causing much distress grows fear instead leaving joan remains shaken noise breaking point wish phoneor whoever ringingto stop episode provides possible answer plaguing joan character named beth come story rather late joan struggle find whose female voice across line knew name dreaded phone discovers room across fate beth might tell viewer joan traumatized think episode exercise spook instead credibilitysome didnt particularly like certainly admit phone physical menace crawling towards joan hard take seriously mention attack thought intense opening twenty minute suitably chilling enough make'"
      ]
     },
     "execution_count": 17,
     "metadata": {},
     "output_type": "execute_result"
    }
   ],
   "source": [
    "tokens=10000\n",
    "tokenizer=Tokenizer(num_words=tokens,oov_token=\"<OOV>\")\n",
    "\n",
    "tokenizer.fit_on_texts(x_train)\n",
    "tokenizer.fit_on_texts(x_test)\n",
    "\n",
    "x_test[0]"
   ]
  },
  {
   "cell_type": "code",
   "execution_count": 18,
   "id": "544f8047",
   "metadata": {
    "executionInfo": {
     "elapsed": 2718,
     "status": "ok",
     "timestamp": 1706331443678,
     "user": {
      "displayName": "Surya Nattarayasamy",
      "userId": "15728084309802203741"
     },
     "user_tz": -330
    },
    "id": "544f8047"
   },
   "outputs": [],
   "source": [
    "x_train = tokenizer.texts_to_sequences(x_train)\n",
    "x_test = tokenizer.texts_to_sequences(x_test)"
   ]
  },
  {
   "cell_type": "code",
   "execution_count": 19,
   "id": "3652e508",
   "metadata": {
    "colab": {
     "base_uri": "https://localhost:8080/"
    },
    "executionInfo": {
     "elapsed": 8,
     "status": "ok",
     "timestamp": 1706331445350,
     "user": {
      "displayName": "Surya Nattarayasamy",
      "userId": "15728084309802203741"
     },
     "user_tz": -330
    },
    "id": "3652e508",
    "outputId": "1aa1f8f2-9e9e-446b-9f19-465af176df32"
   },
   "outputs": [
    {
     "name": "stdout",
     "output_type": "stream",
     "text": [
      "[622, 319, 533, 7468, 1, 18, 36, 1590, 3201, 5084, 2137, 192, 644, 791, 33, 32, 975, 100, 569, 481, 37, 231, 619, 114, 147, 714, 1, 192, 1429, 1563, 1590, 745, 114, 2866, 1562, 656, 412, 361, 147, 625, 3513, 2, 2, 5, 304, 1917, 1590, 335, 114, 1056, 842, 1417, 1489, 100, 53, 376, 1721, 1080, 533, 1005, 9368, 2272, 319, 137, 3842, 533, 114, 445, 1590, 33, 842, 985, 705, 100, 53, 6780, 157, 2272, 1, 10, 519, 200, 1762, 4094, 15, 107, 152, 1590, 788, 100, 53, 5514, 1005, 2272, 60, 114, 816, 10, 1, 3, 2470, 15, 107, 2, 2, 16, 389, 71, 5084, 2137, 27, 19, 6, 4991, 3694, 1607, 882, 71, 3, 4663, 29, 1633, 5, 49, 213, 1590, 433, 100, 53, 533, 3842, 213, 371, 4353, 15, 300, 278, 198, 114, 137, 27, 2437, 51, 6, 114, 647, 2073, 924, 2120, 1201, 353, 8309, 213, 168, 100, 53, 2502, 3842, 278, 1590, 98, 1187, 58, 16, 69, 163, 18, 1, 206, 27, 99, 130, 59, 1590, 227, 168, 1, 3520, 5727, 2, 2, 16, 790, 4, 65, 396, 5270, 33, 714, 928, 4401, 3635, 249, 227, 334, 5084, 2137, 300, 670, 1, 516, 5390, 1086, 45, 2502, 7, 1638, 1590, 3201, 2084, 70, 11, 1607, 882, 80, 4, 191, 10, 2187, 2, 2, 6, 396, 5270, 3, 97, 62, 1, 655, 39, 3, 2387, 1, 528, 171, 100, 53, 493, 6685, 1, 1, 1173, 1783, 459, 4621, 28, 3, 161, 1247, 15, 1590, 33, 414, 7244, 272, 1, 9379, 166, 647, 5208, 11, 907, 427, 476, 100, 53, 3446, 1417, 1214, 3, 931, 12, 94, 18, 178, 66, 1215, 165, 18, 100, 53, 314, 47, 2308, 1590, 112, 1, 1, 1763, 18]\n",
      "[1 1 0 ... 1 0 0]\n"
     ]
    }
   ],
   "source": [
    "print(x_test[1])\n",
    "print(y_test)"
   ]
  },
  {
   "cell_type": "markdown",
   "id": "fbd350f5",
   "metadata": {
    "id": "fbd350f5"
   },
   "source": [
    "###  Vocabulory Size of Data"
   ]
  },
  {
   "cell_type": "code",
   "execution_count": 20,
   "id": "12f1debf",
   "metadata": {
    "colab": {
     "base_uri": "https://localhost:8080/"
    },
    "executionInfo": {
     "elapsed": 5,
     "status": "ok",
     "timestamp": 1706331445350,
     "user": {
      "displayName": "Surya Nattarayasamy",
      "userId": "15728084309802203741"
     },
     "user_tz": -330
    },
    "id": "12f1debf",
    "outputId": "33f0f7e8-dcfb-4321-f874-2df869007570"
   },
   "outputs": [
    {
     "name": "stdout",
     "output_type": "stream",
     "text": [
      "Vocabulory size: 145848\n"
     ]
    }
   ],
   "source": [
    "vocab_size=len(tokenizer.word_index)+1\n",
    "print(\"Vocabulory size:\",vocab_size)"
   ]
  },
  {
   "cell_type": "markdown",
   "id": "61bc3744",
   "metadata": {
    "id": "61bc3744"
   },
   "source": [
    "###  Average sentence size"
   ]
  },
  {
   "cell_type": "code",
   "execution_count": 21,
   "id": "3ba1a7c4",
   "metadata": {
    "colab": {
     "base_uri": "https://localhost:8080/"
    },
    "executionInfo": {
     "elapsed": 850,
     "status": "ok",
     "timestamp": 1706331446198,
     "user": {
      "displayName": "Surya Nattarayasamy",
      "userId": "15728084309802203741"
     },
     "user_tz": -330
    },
    "id": "3ba1a7c4",
    "outputId": "ac284b76-0f7d-4ca4-c76c-82a2e5f4c342"
   },
   "outputs": [
    {
     "name": "stdout",
     "output_type": "stream",
     "text": [
      "123.00010714668382\n"
     ]
    }
   ],
   "source": [
    "avg=sum(len(sentence.split()) for sentence in df_train['text'])/len(df_train.text)\n",
    "print(avg+1)"
   ]
  },
  {
   "cell_type": "code",
   "execution_count": 22,
   "id": "d1c54306",
   "metadata": {
    "colab": {
     "base_uri": "https://localhost:8080/",
     "height": 449
    },
    "executionInfo": {
     "elapsed": 9,
     "status": "ok",
     "timestamp": 1706331446199,
     "user": {
      "displayName": "Surya Nattarayasamy",
      "userId": "15728084309802203741"
     },
     "user_tz": -330
    },
    "id": "d1c54306",
    "outputId": "5e2dffcb-9bf7-4f60-c876-46384259510a"
   },
   "outputs": [
    {
     "data": {
      "image/png": "[encoded data removed]",
      "text/plain": [
       "<Figure size 640x480 with 1 Axes>"
      ]
     },
     "metadata": {},
     "output_type": "display_data"
    }
   ],
   "source": [
    "plt.hist([len(sentence.split()) for sentence in df_train['text']], bins=50)\n",
    "plt.xlabel('Sentence Length')\n",
    "plt.ylabel('Frequency')\n",
    "plt.show()"
   ]
  },
  {
   "cell_type": "markdown",
   "id": "d7e1e100",
   "metadata": {
    "id": "d7e1e100"
   },
   "source": [
    "###  Padding Data"
   ]
  },
  {
   "cell_type": "code",
   "execution_count": 23,
   "id": "8928eafd",
   "metadata": {
    "executionInfo": {
     "elapsed": 770,
     "status": "ok",
     "timestamp": 1706331446960,
     "user": {
      "displayName": "Surya Nattarayasamy",
      "userId": "15728084309802203741"
     },
     "user_tz": -330
    },
    "id": "8928eafd"
   },
   "outputs": [],
   "source": [
    "x_train = pad_sequences(x_train, padding='post', maxlen=400)\n",
    "x_test = pad_sequences(x_test, padding='post', maxlen=400)"
   ]
  },
  {
   "cell_type": "code",
   "execution_count": 24,
   "id": "393b5706",
   "metadata": {
    "colab": {
     "base_uri": "https://localhost:8080/"
    },
    "executionInfo": {
     "elapsed": 20,
     "status": "ok",
     "timestamp": 1706331446961,
     "user": {
      "displayName": "Surya Nattarayasamy",
      "userId": "15728084309802203741"
     },
     "user_tz": -330
    },
    "id": "393b5706",
    "outputId": "79520682-1422-42ce-c698-d1c3caa57e69"
   },
   "outputs": [
    {
     "name": "stdout",
     "output_type": "stream",
     "text": [
      "(27999, 400)\n",
      "(27999,)\n",
      "(12001, 400)\n"
     ]
    }
   ],
   "source": [
    "print(x_train.shape)\n",
    "print(y_train.shape)\n",
    "print(x_test.shape)"
   ]
  },
  {
   "cell_type": "markdown",
   "id": "ba680f0c",
   "metadata": {
    "id": "ba680f0c",
    "papermill": {
     "duration": 0.126673,
     "end_time": "2023-11-22T16:57:24.648309",
     "exception": false,
     "start_time": "2023-11-22T16:57:24.521636",
     "status": "completed"
    },
    "tags": []
   },
   "source": [
    "# Model building using Simple RNN and Training"
   ]
  },
  {
   "cell_type": "code",
   "execution_count": 21,
   "id": "hk_jsNs9pcy_",
   "metadata": {
    "colab": {
     "base_uri": "https://localhost:8080/"
    },
    "executionInfo": {
     "elapsed": 2192,
     "status": "ok",
     "timestamp": 1706326984395,
     "user": {
      "displayName": "Surya Nattarayasamy",
      "userId": "15728084309802203741"
     },
     "user_tz": -330
    },
    "id": "hk_jsNs9pcy_",
    "outputId": "23d81161-7d09-4651-c91f-05cbbc3415c6"
   },
   "outputs": [
    {
     "name": "stdout",
     "output_type": "stream",
     "text": [
      "Model: \"sequential\"\n",
      "_________________________________________________________________\n",
      " Layer (type)                Output Shape              Param #   \n",
      "=================================================================\n",
      " embedding (Embedding)       (None, 400, 300)          43754400  \n",
      "                                                                 \n",
      " dropout (Dropout)           (None, 400, 300)          0         \n",
      "                                                                 \n",
      " simple_rnn (SimpleRNN)      (None, 64)                23360     \n",
      "                                                                 \n",
      " dropout_1 (Dropout)         (None, 64)                0         \n",
      "                                                                 \n",
      " dense (Dense)               (None, 20)                1300      \n",
      "                                                                 \n",
      " dropout_2 (Dropout)         (None, 20)                0         \n",
      "                                                                 \n",
      " flatten (Flatten)           (None, 20)                0         \n",
      "                                                                 \n",
      " dense_1 (Dense)             (None, 1)                 21        \n",
      "                                                                 \n",
      "=================================================================\n",
      "Total params: 43779081 (167.00 MB)\n",
      "Trainable params: 43779081 (167.00 MB)\n",
      "Non-trainable params: 0 (0.00 Byte)\n",
      "_________________________________________________________________\n"
     ]
    }
   ],
   "source": [
    "epochs = 10\n",
    "batch_size=64\n",
    "\n",
    "rnn_model = Sequential()\n",
    "\n",
    "rnn_model.add(Embedding(input_dim=vocab_size,output_dim=300,input_length=400))\n",
    "rnn_model.add(Dropout(0.5))\n",
    "\n",
    "rnn_model.add(SimpleRNN(units=64))\n",
    "rnn_model.add(Dropout(0.5))\n",
    "\n",
    "rnn_model.add(Dense(units=20,activation='relu'))\n",
    "rnn_model.add(Dropout(0.5))\n",
    "\n",
    "rnn_model.add(Flatten())\n",
    "\n",
    "rnn_model.add(Dense(1,activation='sigmoid'))\n",
    "\n",
    "rnn_model.summary()\n",
    "\n",
    "rnn_model.compile(optimizer='adam', loss='binary_crossentropy', metrics=['accuracy'])"
   ]
  },
  {
   "cell_type": "code",
   "execution_count": 22,
   "id": "svXe3BdlAtMs",
   "metadata": {
    "executionInfo": {
     "elapsed": 337,
     "status": "ok",
     "timestamp": 1706326989137,
     "user": {
      "displayName": "Surya Nattarayasamy",
      "userId": "15728084309802203741"
     },
     "user_tz": -330
    },
    "id": "svXe3BdlAtMs"
   },
   "outputs": [],
   "source": [
    "from keras.callbacks import LearningRateScheduler\n",
    "from keras.callbacks import EarlyStopping\n",
    "\n",
    "def scheduler(epoch, lr):\n",
    "    if epoch % 5 == 0 and epoch != 0:\n",
    "        return lr * 0.8\n",
    "    else:\n",
    "        return lr\n",
    "\n",
    "early_stopping = EarlyStopping(monitor='val_loss', patience=5, restore_best_weights=True)\n",
    "lr_schedule = LearningRateScheduler(scheduler)"
   ]
  },
  {
   "cell_type": "code",
   "execution_count": 23,
   "id": "8a2f7729",
   "metadata": {
    "colab": {
     "base_uri": "https://localhost:8080/"
    },
    "executionInfo": {
     "elapsed": 2004529,
     "status": "ok",
     "timestamp": 1706328997074,
     "user": {
      "displayName": "Surya Nattarayasamy",
      "userId": "15728084309802203741"
     },
     "user_tz": -330
    },
    "id": "8a2f7729",
    "outputId": "ec5588c9-d377-4ac7-d45b-9b12cf792538"
   },
   "outputs": [
    {
     "name": "stdout",
     "output_type": "stream",
     "text": [
      "Epoch 1/10\n",
      "438/438 [==============================] - 251s 562ms/step - loss: 0.6968 - accuracy: 0.4964 - val_loss: 0.6932 - val_accuracy: 0.5035 - lr: 0.0010\n",
      "Epoch 2/10\n",
      "438/438 [==============================] - 210s 480ms/step - loss: 0.6931 - accuracy: 0.5014 - val_loss: 0.6931 - val_accuracy: 0.4980 - lr: 0.0010\n",
      "Epoch 3/10\n",
      "438/438 [==============================] - 193s 441ms/step - loss: 0.6951 - accuracy: 0.4980 - val_loss: 0.6932 - val_accuracy: 0.4977 - lr: 0.0010\n",
      "Epoch 4/10\n",
      "438/438 [==============================] - 189s 433ms/step - loss: 0.6932 - accuracy: 0.4994 - val_loss: 0.6932 - val_accuracy: 0.5053 - lr: 0.0010\n",
      "Epoch 5/10\n",
      "438/438 [==============================] - 192s 437ms/step - loss: 0.6922 - accuracy: 0.5011 - val_loss: 0.6928 - val_accuracy: 0.5044 - lr: 0.0010\n",
      "Epoch 6/10\n",
      "438/438 [==============================] - 186s 425ms/step - loss: 0.6933 - accuracy: 0.4992 - val_loss: 0.6929 - val_accuracy: 0.5049 - lr: 8.0000e-04\n",
      "Epoch 7/10\n",
      "438/438 [==============================] - 186s 425ms/step - loss: 0.6939 - accuracy: 0.4983 - val_loss: 0.6930 - val_accuracy: 0.5052 - lr: 8.0000e-04\n",
      "Epoch 8/10\n",
      "438/438 [==============================] - 181s 413ms/step - loss: 0.6925 - accuracy: 0.5024 - val_loss: 0.6929 - val_accuracy: 0.4985 - lr: 8.0000e-04\n",
      "Epoch 9/10\n",
      "438/438 [==============================] - 183s 419ms/step - loss: 0.6912 - accuracy: 0.5024 - val_loss: 0.6926 - val_accuracy: 0.5054 - lr: 8.0000e-04\n",
      "Epoch 10/10\n",
      "438/438 [==============================] - 184s 421ms/step - loss: 0.6910 - accuracy: 0.5037 - val_loss: 0.6926 - val_accuracy: 0.5060 - lr: 8.0000e-04\n"
     ]
    }
   ],
   "source": [
    "history_2 = rnn_model.fit(x_train, y_train, batch_size=batch_size, epochs=epochs, verbose=1,validation_data=(x_test, y_test)\n",
    "                          ,callbacks=[early_stopping,lr_schedule])"
   ]
  },
  {
   "cell_type": "markdown",
   "id": "6bd05522",
   "metadata": {
    "id": "6bd05522"
   },
   "source": [
    "### Model Accurancy"
   ]
  },
  {
   "cell_type": "code",
   "execution_count": 24,
   "id": "LMANc-hMdKVo",
   "metadata": {
    "colab": {
     "base_uri": "https://localhost:8080/",
     "height": 291
    },
    "executionInfo": {
     "elapsed": 1235,
     "status": "ok",
     "timestamp": 1706328998293,
     "user": {
      "displayName": "Surya Nattarayasamy",
      "userId": "15728084309802203741"
     },
     "user_tz": -330
    },
    "id": "LMANc-hMdKVo",
    "outputId": "f9cb15d6-f002-45f8-8842-43ef97921273"
   },
   "outputs": [
    {
     "data": {
      "image/png": "[encoded data removed]",
      "text/plain": [
       "<Figure size 1200x400 with 2 Axes>"
      ]
     },
     "metadata": {},
     "output_type": "display_data"
    }
   ],
   "source": [
    "plt.figure(figsize=(12, 4))\n",
    "plt.subplot(1, 2, 1)\n",
    "plt.plot(history_2.history['accuracy'])\n",
    "plt.plot(history_2.history['val_accuracy'])\n",
    "plt.title('Model Accuracy')\n",
    "plt.ylabel('Accuracy')\n",
    "plt.xlabel('Epoch')\n",
    "plt.legend(['Train', 'Validation'], loc='upper left')\n",
    "\n",
    "plt.subplot(1, 2, 2)\n",
    "plt.plot(history_2.history['loss'])\n",
    "plt.plot(history_2.history['val_loss'])\n",
    "plt.title('Model Loss')\n",
    "plt.ylabel('Loss')\n",
    "plt.xlabel('Epoch')\n",
    "plt.legend(['Train', 'Validation'], loc='upper left')\n",
    "\n",
    "plt.tight_layout()\n",
    "plt.show()"
   ]
  },
  {
   "cell_type": "code",
   "execution_count": 25,
   "id": "6u4_PDLrdKbK",
   "metadata": {
    "colab": {
     "base_uri": "https://localhost:8080/"
    },
    "executionInfo": {
     "elapsed": 13599,
     "status": "ok",
     "timestamp": 1706329011886,
     "user": {
      "displayName": "Surya Nattarayasamy",
      "userId": "15728084309802203741"
     },
     "user_tz": -330
    },
    "id": "6u4_PDLrdKbK",
    "outputId": "9fb198fe-79f9-4cf1-b6b6-a09a516fc6fe"
   },
   "outputs": [
    {
     "name": "stdout",
     "output_type": "stream",
     "text": [
      "376/376 [==============================] - 14s 37ms/step\n"
     ]
    }
   ],
   "source": [
    "y_pred = rnn_model.predict(x_test)\n"
   ]
  },
  {
   "cell_type": "code",
   "execution_count": 26,
   "id": "4MQzRzqIdKYc",
   "metadata": {
    "colab": {
     "base_uri": "https://localhost:8080/",
     "height": 564
    },
    "executionInfo": {
     "elapsed": 1157,
     "status": "ok",
     "timestamp": 1706329013027,
     "user": {
      "displayName": "Surya Nattarayasamy",
      "userId": "15728084309802203741"
     },
     "user_tz": -330
    },
    "id": "4MQzRzqIdKYc",
    "outputId": "c9f70875-75c0-4907-8ac9-10bc5bf6a79c"
   },
   "outputs": [
    {
     "data": {
      "image/png": "[encoded data removed]",
      "text/plain": [
       "<Figure size 600x600 with 1 Axes>"
      ]
     },
     "metadata": {},
     "output_type": "display_data"
    }
   ],
   "source": [
    "fpr, tpr, thresholds = roc_curve(y_test, y_pred)\n",
    "roc_auc = auc(fpr, tpr)\n",
    "\n",
    "# Plot ROC curve\n",
    "plt.figure(figsize=(6, 6))\n",
    "plt.plot(fpr, tpr, color='darkorange', lw=2, label='ROC curve (area = {:.2f})'.format(roc_auc))\n",
    "plt.plot([0, 1], [0, 1], color='navy', lw=2, linestyle='--')\n",
    "plt.xlabel('False Positive Rate')\n",
    "plt.ylabel('True Positive Rate')\n",
    "plt.title('Receiver Operating Characteristic (ROC) Curve')\n",
    "plt.legend(loc='lower right')\n",
    "plt.show()"
   ]
  },
  {
   "cell_type": "code",
   "execution_count": 27,
   "id": "C3eLPHsQhWwG",
   "metadata": {
    "colab": {
     "base_uri": "https://localhost:8080/",
     "height": 564
    },
    "executionInfo": {
     "elapsed": 7,
     "status": "ok",
     "timestamp": 1706329013027,
     "user": {
      "displayName": "Surya Nattarayasamy",
      "userId": "15728084309802203741"
     },
     "user_tz": -330
    },
    "id": "C3eLPHsQhWwG",
    "outputId": "b5ed948d-70de-4baa-901e-295a0f9a0ff2"
   },
   "outputs": [
    {
     "data": {
      "image/png": "[encoded data removed]",
      "text/plain": [
       "<Figure size 600x600 with 1 Axes>"
      ]
     },
     "metadata": {},
     "output_type": "display_data"
    }
   ],
   "source": [
    "from sklearn.metrics import precision_recall_curve\n",
    "\n",
    "precision, recall, thresholds = precision_recall_curve(y_test, y_pred)\n",
    "\n",
    "# Plot Precision-Recall curve\n",
    "plt.figure(figsize=(6, 6))\n",
    "plt.plot(recall, precision, color='darkorange', lw=2, label='Precision-Recall curve')\n",
    "plt.xlabel('Recall')\n",
    "plt.ylabel('Precision')\n",
    "plt.title('Precision-Recall Curve')\n",
    "plt.legend(loc='lower right')\n",
    "plt.show()"
   ]
  },
  {
   "cell_type": "markdown",
   "id": "6fd6c0aa",
   "metadata": {
    "id": "6fd6c0aa"
   },
   "source": [
    "###  Threshold Value"
   ]
  },
  {
   "cell_type": "code",
   "execution_count": 28,
   "id": "Lnns2oAFhZzC",
   "metadata": {
    "colab": {
     "base_uri": "https://localhost:8080/"
    },
    "executionInfo": {
     "elapsed": 1212,
     "status": "ok",
     "timestamp": 1706329014234,
     "user": {
      "displayName": "Surya Nattarayasamy",
      "userId": "15728084309802203741"
     },
     "user_tz": -330
    },
    "id": "Lnns2oAFhZzC",
    "outputId": "292d8959-3d2c-46bc-875f-3db1b109dde2"
   },
   "outputs": [
    {
     "name": "stdout",
     "output_type": "stream",
     "text": [
      "0.2791055\n"
     ]
    }
   ],
   "source": [
    "f1_scores = [f1_score(y_test, (y_pred >= t).astype(int)) for t in thresholds]\n",
    "best_threshold = thresholds[np.argmax(f1_scores)]\n",
    "print(best_threshold)"
   ]
  },
  {
   "cell_type": "markdown",
   "id": "26dd51ea",
   "metadata": {
    "id": "26dd51ea"
   },
   "source": [
    "### Confusion Matrix"
   ]
  },
  {
   "cell_type": "code",
   "execution_count": 29,
   "id": "6AL_A98EdKdz",
   "metadata": {
    "colab": {
     "base_uri": "https://localhost:8080/",
     "height": 413
    },
    "executionInfo": {
     "elapsed": 9,
     "status": "ok",
     "timestamp": 1706329014234,
     "user": {
      "displayName": "Surya Nattarayasamy",
      "userId": "15728084309802203741"
     },
     "user_tz": -330
    },
    "id": "6AL_A98EdKdz",
    "outputId": "d2c00d23-77c7-4aa0-f30f-f15701e27087"
   },
   "outputs": [
    {
     "name": "stdout",
     "output_type": "stream",
     "text": [
      "              precision    recall  f1-score   support\n",
      "\n",
      "           0       1.00      0.00      0.00      6028\n",
      "           1       0.50      1.00      0.66      5973\n",
      "\n",
      "    accuracy                           0.50     12001\n",
      "   macro avg       0.75      0.50      0.33     12001\n",
      "weighted avg       0.75      0.50      0.33     12001\n",
      "\n"
     ]
    },
    {
     "data": {
      "text/plain": [
       "Text(8.222222222222223, 0.5, 'Truth')"
      ]
     },
     "execution_count": 29,
     "metadata": {},
     "output_type": "execute_result"
    },
    {
     "data": {
      "image/png": "[encoded data removed]",
      "text/plain": [
       "<Figure size 300x200 with 2 Axes>"
      ]
     },
     "metadata": {},
     "output_type": "display_data"
    }
   ],
   "source": [
    "threshold = best_threshold\n",
    "y_pred_labels = np.where(y_pred >= threshold, 1, 0)\n",
    "\n",
    "print(classification_report(y_test, y_pred_labels))\n",
    "cm = confusion_matrix(y_test, y_pred_labels)\n",
    "plt.figure(figsize = (3,2))\n",
    "sn.heatmap(cm, annot=True, fmt='d')\n",
    "plt.xlabel('Prediction')\n",
    "plt.ylabel('Truth')"
   ]
  },
  {
   "cell_type": "markdown",
   "id": "fedd46b8",
   "metadata": {
    "id": "fedd46b8"
   },
   "source": [
    "### Model Prediction"
   ]
  },
  {
   "cell_type": "code",
   "execution_count": 31,
   "id": "z5tCJdewhZ5k",
   "metadata": {
    "executionInfo": {
     "elapsed": 353,
     "status": "ok",
     "timestamp": 1706329232532,
     "user": {
      "displayName": "Surya Nattarayasamy",
      "userId": "15728084309802203741"
     },
     "user_tz": -330
    },
    "id": "z5tCJdewhZ5k"
   },
   "outputs": [],
   "source": [
    "def predictions(model,text):\n",
    "    new_text=func_1(text)\n",
    "    tokenizer.fit_on_texts(new_text)\n",
    "    new_text= tokenizer.texts_to_sequences([new_text])\n",
    "    new_text= pad_sequences(new_text, padding='post', maxlen=400)\n",
    "    predictions = model.predict(new_text)\n",
    "    if predictions < best_threshold:\n",
    "        output='The review is positive'\n",
    "        value=predictions\n",
    "    else:\n",
    "        output='The review is negative'\n",
    "        value=predictions\n",
    "    return output,value"
   ]
  },
  {
   "cell_type": "code",
   "execution_count": 32,
   "id": "6064jewodKga",
   "metadata": {
    "colab": {
     "base_uri": "https://localhost:8080/"
    },
    "executionInfo": {
     "elapsed": 955,
     "status": "ok",
     "timestamp": 1706329235580,
     "user": {
      "displayName": "Surya Nattarayasamy",
      "userId": "15728084309802203741"
     },
     "user_tz": -330
    },
    "id": "6064jewodKga",
    "outputId": "75d5118a-3d69-4209-8636-eb7bf0ddfc97"
   },
   "outputs": [
    {
     "name": "stdout",
     "output_type": "stream",
     "text": [
      "1/1 [==============================] - 0s 50ms/step\n",
      "The review is negative [[0.49878287]]\n"
     ]
    }
   ],
   "source": [
    "text = '''Wow! What an incredible movie! The storyline was engaging, the characters were well-\n",
    "    developed, and the cinematography was stunning. I couldn't take my eyes off the screen\n",
    "    from start to finish. The performances were outstanding, and the soundtrack added the\n",
    "    perfect touch. This is a must-watch for any movie enthusiast!'''\n",
    "\n",
    "predicted_value,value=predictions(rnn_model,text)\n",
    "\n",
    "print(predicted_value,value)"
   ]
  },
  {
   "cell_type": "code",
   "execution_count": 33,
   "id": "kqah_UcNdKi4",
   "metadata": {
    "colab": {
     "base_uri": "https://localhost:8080/"
    },
    "executionInfo": {
     "elapsed": 939,
     "status": "ok",
     "timestamp": 1706329241009,
     "user": {
      "displayName": "Surya Nattarayasamy",
      "userId": "15728084309802203741"
     },
     "user_tz": -330
    },
    "id": "kqah_UcNdKi4",
    "outputId": "2a87836e-1b16-445f-ce68-ba7817206693"
   },
   "outputs": [
    {
     "name": "stdout",
     "output_type": "stream",
     "text": [
      "1/1 [==============================] - 0s 50ms/step\n",
      "The review is negative [[0.49878287]]\n"
     ]
    }
   ],
   "source": [
    "text = \"\"\"I was really disappointed with this movie. The plot was confusing and poorly executed,\n",
    "and the characters felt one-dimensional. The dialogue was lackluster, and I found it hard\n",
    "to connect with any of the characters. The pacing was off, and there were too many unnecessary\n",
    "scenes that didn't contribute to the overall story.I had high expectations, but sadly, this movie\n",
    "didn't live up to them.\"\"\"\n",
    "\n",
    "predicted_value,value=predictions(rnn_model,text)\n",
    "\n",
    "print(predicted_value,value)"
   ]
  },
  {
   "cell_type": "code",
   "execution_count": null,
   "id": "5hUrMf83dKlg",
   "metadata": {
    "id": "5hUrMf83dKlg"
   },
   "outputs": [],
   "source": []
  },
  {
   "cell_type": "code",
   "execution_count": null,
   "id": "n4WAvAhVdKoF",
   "metadata": {
    "id": "n4WAvAhVdKoF"
   },
   "outputs": [],
   "source": []
  },
  {
   "cell_type": "markdown",
   "id": "ABvU7TJoh_Vg",
   "metadata": {
    "id": "ABvU7TJoh_Vg",
    "papermill": {
     "duration": 0.126673,
     "end_time": "2023-11-22T16:57:24.648309",
     "exception": false,
     "start_time": "2023-11-22T16:57:24.521636",
     "status": "completed"
    },
    "tags": []
   },
   "source": [
    "# Model building using LSTM and Training"
   ]
  },
  {
   "cell_type": "code",
   "execution_count": 25,
   "id": "05f3fefa",
   "metadata": {
    "colab": {
     "base_uri": "https://localhost:8080/"
    },
    "executionInfo": {
     "elapsed": 1870,
     "status": "ok",
     "timestamp": 1706331448819,
     "user": {
      "displayName": "Surya Nattarayasamy",
      "userId": "15728084309802203741"
     },
     "user_tz": -330
    },
    "id": "05f3fefa",
    "outputId": "c3efc6c4-7e2e-4dab-e2d5-2dea0bcf7dcc"
   },
   "outputs": [
    {
     "name": "stdout",
     "output_type": "stream",
     "text": [
      "Model: \"sequential\"\n",
      "_________________________________________________________________\n",
      " Layer (type)                Output Shape              Param #   \n",
      "=================================================================\n",
      " embedding (Embedding)       (None, 400, 300)          43754400  \n",
      "                                                                 \n",
      " lstm (LSTM)                 (None, 400, 32)           42624     \n",
      "                                                                 \n",
      " dropout (Dropout)           (None, 400, 32)           0         \n",
      "                                                                 \n",
      " lstm_1 (LSTM)               (None, 32)                8320      \n",
      "                                                                 \n",
      " dropout_1 (Dropout)         (None, 32)                0         \n",
      "                                                                 \n",
      " dense (Dense)               (None, 20)                660       \n",
      "                                                                 \n",
      " dropout_2 (Dropout)         (None, 20)                0         \n",
      "                                                                 \n",
      " dense_1 (Dense)             (None, 1)                 21        \n",
      "                                                                 \n",
      "=================================================================\n",
      "Total params: 43806025 (167.11 MB)\n",
      "Trainable params: 43806025 (167.11 MB)\n",
      "Non-trainable params: 0 (0.00 Byte)\n",
      "_________________________________________________________________\n"
     ]
    }
   ],
   "source": [
    "lstm_model=Sequential()\n",
    "\n",
    "lstm_model.add(Embedding(input_dim=vocab_size,output_dim=300,input_length=400))\n",
    "\n",
    "lstm_model.add(LSTM(units=32,return_sequences=True))\n",
    "lstm_model.add(Dropout(0.5))\n",
    "\n",
    "lstm_model.add(LSTM(units=32,return_sequences=False))\n",
    "lstm_model.add(Dropout(0.5))\n",
    "\n",
    "\n",
    "lstm_model.add(Dense(20,activation='relu'))\n",
    "lstm_model.add(Dropout(0.5))\n",
    "\n",
    "lstm_model.add(Dense(units=1, activation='sigmoid'))\n",
    "\n",
    "lstm_model.summary()"
   ]
  },
  {
   "cell_type": "code",
   "execution_count": 26,
   "id": "2abe900c",
   "metadata": {
    "executionInfo": {
     "elapsed": 7,
     "status": "ok",
     "timestamp": 1706331448819,
     "user": {
      "displayName": "Surya Nattarayasamy",
      "userId": "15728084309802203741"
     },
     "user_tz": -330
    },
    "id": "2abe900c"
   },
   "outputs": [],
   "source": [
    "lstm_model.compile(optimizer='adam', loss='binary_crossentropy', metrics=['accuracy'])"
   ]
  },
  {
   "cell_type": "code",
   "execution_count": 27,
   "id": "1e34f728",
   "metadata": {
    "colab": {
     "base_uri": "https://localhost:8080/"
    },
    "executionInfo": {
     "elapsed": 445714,
     "status": "ok",
     "timestamp": 1706331894527,
     "user": {
      "displayName": "Surya Nattarayasamy",
      "userId": "15728084309802203741"
     },
     "user_tz": -330
    },
    "id": "1e34f728",
    "outputId": "9178f93c-d6ef-47fc-9c35-3dc89c5077af"
   },
   "outputs": [
    {
     "name": "stdout",
     "output_type": "stream",
     "text": [
      "Epoch 1/15\n",
      "438/438 [==============================] - 82s 173ms/step - loss: 0.6937 - accuracy: 0.5026 - val_loss: 0.6932 - val_accuracy: 0.4999\n",
      "Epoch 2/15\n",
      "438/438 [==============================] - 44s 100ms/step - loss: 0.6933 - accuracy: 0.5033 - val_loss: 0.6928 - val_accuracy: 0.5024\n",
      "Epoch 3/15\n",
      "438/438 [==============================] - 31s 71ms/step - loss: 0.6916 - accuracy: 0.5027 - val_loss: 0.6914 - val_accuracy: 0.5044\n",
      "Epoch 4/15\n",
      "438/438 [==============================] - 27s 61ms/step - loss: 0.6878 - accuracy: 0.5077 - val_loss: 0.6943 - val_accuracy: 0.5039\n",
      "Epoch 5/15\n",
      "438/438 [==============================] - 26s 58ms/step - loss: 0.6821 - accuracy: 0.5100 - val_loss: 0.6993 - val_accuracy: 0.5025\n",
      "Epoch 6/15\n",
      "438/438 [==============================] - 23s 54ms/step - loss: 0.6776 - accuracy: 0.5141 - val_loss: 0.7095 - val_accuracy: 0.5041\n",
      "Epoch 7/15\n",
      "438/438 [==============================] - 22s 50ms/step - loss: 0.6765 - accuracy: 0.5131 - val_loss: 0.7089 - val_accuracy: 0.5054\n",
      "Epoch 8/15\n",
      "438/438 [==============================] - 21s 48ms/step - loss: 0.6761 - accuracy: 0.5135 - val_loss: 0.7111 - val_accuracy: 0.5050\n",
      "Epoch 9/15\n",
      "438/438 [==============================] - 21s 47ms/step - loss: 0.6757 - accuracy: 0.5145 - val_loss: 0.7259 - val_accuracy: 0.5042\n",
      "Epoch 10/15\n",
      "438/438 [==============================] - 22s 51ms/step - loss: 0.6752 - accuracy: 0.5152 - val_loss: 0.7156 - val_accuracy: 0.5051\n",
      "Epoch 11/15\n",
      "438/438 [==============================] - 20s 46ms/step - loss: 0.6733 - accuracy: 0.5165 - val_loss: 0.7281 - val_accuracy: 0.5085\n",
      "Epoch 12/15\n",
      "438/438 [==============================] - 20s 46ms/step - loss: 0.6724 - accuracy: 0.5186 - val_loss: 0.7200 - val_accuracy: 0.5090\n",
      "Epoch 13/15\n",
      "438/438 [==============================] - 21s 48ms/step - loss: 0.6629 - accuracy: 0.5473 - val_loss: 0.6495 - val_accuracy: 0.7249\n",
      "Epoch 14/15\n",
      "438/438 [==============================] - 20s 46ms/step - loss: 0.5444 - accuracy: 0.7670 - val_loss: 0.4790 - val_accuracy: 0.8110\n",
      "Epoch 15/15\n",
      "438/438 [==============================] - 21s 47ms/step - loss: 0.4684 - accuracy: 0.8128 - val_loss: 0.4297 - val_accuracy: 0.8242\n"
     ]
    }
   ],
   "source": [
    "history_1 = lstm_model.fit(x_train,y_train,epochs=15,batch_size=64,verbose=1,validation_data=(x_test, y_test))"
   ]
  },
  {
   "cell_type": "markdown",
   "id": "71576429",
   "metadata": {
    "id": "71576429"
   },
   "source": [
    "### Model Accurancy"
   ]
  },
  {
   "cell_type": "code",
   "execution_count": 28,
   "id": "4f78413a",
   "metadata": {
    "colab": {
     "base_uri": "https://localhost:8080/",
     "height": 291
    },
    "executionInfo": {
     "elapsed": 932,
     "status": "ok",
     "timestamp": 1706332114074,
     "user": {
      "displayName": "Surya Nattarayasamy",
      "userId": "15728084309802203741"
     },
     "user_tz": -330
    },
    "id": "4f78413a",
    "outputId": "d148ef56-a596-4aa7-9ae1-ea7e6a0bac43"
   },
   "outputs": [
    {
     "data": {
      "image/png": "[encoded data removed]",
      "text/plain": [
       "<Figure size 1200x400 with 2 Axes>"
      ]
     },
     "metadata": {},
     "output_type": "display_data"
    }
   ],
   "source": [
    "plt.figure(figsize=(12, 4))\n",
    "plt.subplot(1, 2, 1)\n",
    "plt.plot(history_1.history['accuracy'])\n",
    "plt.plot(history_1.history['val_accuracy'])\n",
    "plt.title('Model Accuracy')\n",
    "plt.ylabel('Accuracy')\n",
    "plt.xlabel('Epoch')\n",
    "plt.legend(['Train', 'Validation'], loc='upper left')\n",
    "\n",
    "plt.subplot(1, 2, 2)\n",
    "plt.plot(history_1.history['loss'])\n",
    "plt.plot(history_1.history['val_loss'])\n",
    "plt.title('Model Loss')\n",
    "plt.ylabel('Loss')\n",
    "plt.xlabel('Epoch')\n",
    "plt.legend(['Train', 'Validation'], loc='upper left')\n",
    "\n",
    "plt.tight_layout()\n",
    "plt.show()"
   ]
  },
  {
   "cell_type": "code",
   "execution_count": 29,
   "id": "kDKmYuE42Lu_",
   "metadata": {
    "colab": {
     "base_uri": "https://localhost:8080/"
    },
    "executionInfo": {
     "elapsed": 6267,
     "status": "ok",
     "timestamp": 1706332124143,
     "user": {
      "displayName": "Surya Nattarayasamy",
      "userId": "15728084309802203741"
     },
     "user_tz": -330
    },
    "id": "kDKmYuE42Lu_",
    "outputId": "5b51c604-0b1b-49e1-aa08-59caf94017c1"
   },
   "outputs": [
    {
     "name": "stdout",
     "output_type": "stream",
     "text": [
      "376/376 [==============================] - 5s 12ms/step\n"
     ]
    }
   ],
   "source": [
    "y_pred = lstm_model.predict(x_test)"
   ]
  },
  {
   "cell_type": "code",
   "execution_count": 30,
   "id": "EXkCWw5lgDOr",
   "metadata": {
    "colab": {
     "base_uri": "https://localhost:8080/",
     "height": 564
    },
    "executionInfo": {
     "elapsed": 6,
     "status": "ok",
     "timestamp": 1706332124143,
     "user": {
      "displayName": "Surya Nattarayasamy",
      "userId": "15728084309802203741"
     },
     "user_tz": -330
    },
    "id": "EXkCWw5lgDOr",
    "outputId": "ac9a0e55-a11e-407a-c613-e4fd1ed70037"
   },
   "outputs": [
    {
     "data": {
      "image/png": "[encoded data removed]",
      "text/plain": [
       "<Figure size 600x600 with 1 Axes>"
      ]
     },
     "metadata": {},
     "output_type": "display_data"
    }
   ],
   "source": [
    "\n",
    "\n",
    "fpr, tpr, thresholds = roc_curve(y_test, y_pred)\n",
    "roc_auc = auc(fpr, tpr)\n",
    "\n",
    "# Plot ROC curve\n",
    "plt.figure(figsize=(6, 6))\n",
    "plt.plot(fpr, tpr, color='darkorange', lw=2, label='ROC curve (area = {:.2f})'.format(roc_auc))\n",
    "plt.plot([0, 1], [0, 1], color='navy', lw=2, linestyle='--')\n",
    "plt.xlabel('False Positive Rate')\n",
    "plt.ylabel('True Positive Rate')\n",
    "plt.title('Receiver Operating Characteristic (ROC) Curve')\n",
    "plt.legend(loc='lower right')\n",
    "plt.show()"
   ]
  },
  {
   "cell_type": "code",
   "execution_count": 31,
   "id": "lzkcJhzugI5c",
   "metadata": {
    "colab": {
     "base_uri": "https://localhost:8080/",
     "height": 564
    },
    "executionInfo": {
     "elapsed": 795,
     "status": "ok",
     "timestamp": 1706332124933,
     "user": {
      "displayName": "Surya Nattarayasamy",
      "userId": "15728084309802203741"
     },
     "user_tz": -330
    },
    "id": "lzkcJhzugI5c",
    "outputId": "e002fb61-b026-4a89-c33c-d1e0387d1f52"
   },
   "outputs": [
    {
     "data": {
      "image/png": "[encoded data removed]",
      "text/plain": [
       "<Figure size 600x600 with 1 Axes>"
      ]
     },
     "metadata": {},
     "output_type": "display_data"
    }
   ],
   "source": [
    "\n",
    "precision, recall, thresholds = precision_recall_curve(y_test, y_pred)\n",
    "\n",
    "# Plot Precision-Recall curve\n",
    "plt.figure(figsize=(6, 6))\n",
    "plt.plot(recall, precision, color='darkorange', lw=2, label='Precision-Recall curve')\n",
    "plt.xlabel('Recall')\n",
    "plt.ylabel('Precision')\n",
    "plt.title('Precision-Recall Curve')\n",
    "plt.legend(loc='lower right')\n",
    "plt.show()"
   ]
  },
  {
   "cell_type": "markdown",
   "id": "d05ae817",
   "metadata": {
    "id": "d05ae817"
   },
   "source": [
    "### Threshold Value"
   ]
  },
  {
   "cell_type": "code",
   "execution_count": 32,
   "id": "GSp5FhmqgI_j",
   "metadata": {
    "colab": {
     "base_uri": "https://localhost:8080/"
    },
    "executionInfo": {
     "elapsed": 42979,
     "status": "ok",
     "timestamp": 1706332167905,
     "user": {
      "displayName": "Surya Nattarayasamy",
      "userId": "15728084309802203741"
     },
     "user_tz": -330
    },
    "id": "GSp5FhmqgI_j",
    "outputId": "16187f16-00f0-4ea7-988c-c57d989435c1"
   },
   "outputs": [
    {
     "name": "stdout",
     "output_type": "stream",
     "text": [
      "0.38604385\n"
     ]
    }
   ],
   "source": [
    "f1_scores = [f1_score(y_test, (y_pred >= t).astype(int)) for t in thresholds]\n",
    "best_threshold = thresholds[np.argmax(f1_scores)]\n",
    "print(best_threshold)"
   ]
  },
  {
   "cell_type": "markdown",
   "id": "ecef6e17",
   "metadata": {
    "id": "ecef6e17"
   },
   "source": [
    "### Confusion Matrix"
   ]
  },
  {
   "cell_type": "code",
   "execution_count": 33,
   "id": "eACp9Ug_gEYO",
   "metadata": {
    "colab": {
     "base_uri": "https://localhost:8080/",
     "height": 408
    },
    "executionInfo": {
     "elapsed": 15,
     "status": "ok",
     "timestamp": 1706332167905,
     "user": {
      "displayName": "Surya Nattarayasamy",
      "userId": "15728084309802203741"
     },
     "user_tz": -330
    },
    "id": "eACp9Ug_gEYO",
    "outputId": "817f4190-e1af-4c07-e359-93c63dea59bd"
   },
   "outputs": [
    {
     "name": "stdout",
     "output_type": "stream",
     "text": [
      "              precision    recall  f1-score   support\n",
      "\n",
      "           0       0.88      0.74      0.81      5972\n",
      "           1       0.78      0.90      0.84      6029\n",
      "\n",
      "    accuracy                           0.82     12001\n",
      "   macro avg       0.83      0.82      0.82     12001\n",
      "weighted avg       0.83      0.82      0.82     12001\n",
      "\n"
     ]
    },
    {
     "data": {
      "text/plain": [
       "Text(8.222222222222223, 0.5, 'Truth')"
      ]
     },
     "execution_count": 33,
     "metadata": {},
     "output_type": "execute_result"
    },
    {
     "data": {
      "image/png": "[encoded data removed]",
      "text/plain": [
       "<Figure size 300x200 with 2 Axes>"
      ]
     },
     "metadata": {},
     "output_type": "display_data"
    }
   ],
   "source": [
    "threshold = best_threshold\n",
    "y_pred_labels = np.where(y_pred >= threshold, 1, 0)\n",
    "\n",
    "print(classification_report(y_test, y_pred_labels))\n",
    "cm = confusion_matrix(y_test, y_pred_labels)\n",
    "plt.figure(figsize = (3,2))\n",
    "sn.heatmap(cm, annot=True, fmt='d')\n",
    "plt.xlabel('Prediction')\n",
    "plt.ylabel('Truth')"
   ]
  },
  {
   "cell_type": "markdown",
   "id": "1cee8cf7",
   "metadata": {
    "id": "1cee8cf7"
   },
   "source": [
    "### Model Prediction"
   ]
  },
  {
   "cell_type": "code",
   "execution_count": 34,
   "id": "c4afec8a",
   "metadata": {
    "executionInfo": {
     "elapsed": 11,
     "status": "ok",
     "timestamp": 1706332167905,
     "user": {
      "displayName": "Surya Nattarayasamy",
      "userId": "15728084309802203741"
     },
     "user_tz": -330
    },
    "id": "c4afec8a"
   },
   "outputs": [],
   "source": [
    "def predictions(model,text):\n",
    "    new_text=func_1(text)\n",
    "    new_text= tokenizer.texts_to_sequences([new_text])\n",
    "    new_text= pad_sequences(new_text, padding='post', maxlen=400)\n",
    "    predictions = model.predict(new_text)\n",
    "    if predictions > best_threshold:\n",
    "        output='The review is positive'\n",
    "    else:\n",
    "        output='The review is negative'\n",
    "    return output,predictions"
   ]
  },
  {
   "cell_type": "code",
   "execution_count": 35,
   "id": "b8bd583d",
   "metadata": {
    "colab": {
     "base_uri": "https://localhost:8080/"
    },
    "executionInfo": {
     "elapsed": 11,
     "status": "ok",
     "timestamp": 1706332167906,
     "user": {
      "displayName": "Surya Nattarayasamy",
      "userId": "15728084309802203741"
     },
     "user_tz": -330
    },
    "id": "b8bd583d",
    "outputId": "f82c4818-3d6e-4228-f2af-12c7b4cb15f9"
   },
   "outputs": [
    {
     "name": "stdout",
     "output_type": "stream",
     "text": [
      "1/1 [==============================] - 0s 26ms/step\n",
      "The review is positive [[0.8136588]]\n"
     ]
    }
   ],
   "source": [
    "text = '''Wow! What an incredible movie! The storyline was engaging, the characters were well-\n",
    "    developed, and the cinematography was stunning. I couldn't take my eyes off the screen\n",
    "    from start to finish. The performances were outstanding, and the soundtrack added the\n",
    "    perfect touch. This is a must-watch for any movie enthusiast!'''\n",
    "\n",
    "predicted_value,value=predictions(lstm_model,text)\n",
    "\n",
    "print(predicted_value,value)\n"
   ]
  },
  {
   "cell_type": "code",
   "execution_count": 36,
   "id": "ad166886",
   "metadata": {
    "colab": {
     "base_uri": "https://localhost:8080/"
    },
    "executionInfo": {
     "elapsed": 827,
     "status": "ok",
     "timestamp": 1706332168725,
     "user": {
      "displayName": "Surya Nattarayasamy",
      "userId": "15728084309802203741"
     },
     "user_tz": -330
    },
    "id": "ad166886",
    "outputId": "ab2b27f8-aaf5-4c3a-bbf6-a4fa4b845a7b"
   },
   "outputs": [
    {
     "name": "stdout",
     "output_type": "stream",
     "text": [
      "1/1 [==============================] - 0s 26ms/step\n",
      "The review is negative [[0.2199593]]\n"
     ]
    }
   ],
   "source": [
    "text = \"\"\"I was really disappointed with this movie. The plot was confusing and poorly executed,\n",
    "and the characters felt one-dimensional. The dialogue was lackluster, and I found it hard\n",
    "to connect with any of the characters. The pacing was off, and there were too many unnecessary\n",
    "scenes that didn't contribute to the overall story.I had high expectations, but sadly, this movie\n",
    "didn't live up to them.\"\"\"\n",
    "\n",
    "predicted_value,value=predictions(lstm_model,text)\n",
    "\n",
    "print(predicted_value,value)"
   ]
  },
  {
   "cell_type": "code",
   "execution_count": 37,
   "id": "f4d12a7b",
   "metadata": {
    "colab": {
     "base_uri": "https://localhost:8080/"
    },
    "executionInfo": {
     "elapsed": 8,
     "status": "ok",
     "timestamp": 1706332168725,
     "user": {
      "displayName": "Surya Nattarayasamy",
      "userId": "15728084309802203741"
     },
     "user_tz": -330
    },
    "id": "f4d12a7b",
    "outputId": "e4a285df-c141-4411-d85f-e2cae73f7485"
   },
   "outputs": [
    {
     "name": "stdout",
     "output_type": "stream",
     "text": [
      "1/1 [==============================] - 0s 25ms/step\n",
      "The review is positive [[0.8136588]]\n"
     ]
    }
   ],
   "source": [
    "text = \"The movie was moderate, i will not recommend this movie to anyone\"\n",
    "\n",
    "predicted_value,value=predictions(lstm_model,text)\n",
    "\n",
    "print(predicted_value,value)"
   ]
  },
  {
   "cell_type": "code",
   "execution_count": 38,
   "id": "85d7de3a",
   "metadata": {
    "colab": {
     "base_uri": "https://localhost:8080/"
    },
    "executionInfo": {
     "elapsed": 6,
     "status": "ok",
     "timestamp": 1706332168726,
     "user": {
      "displayName": "Surya Nattarayasamy",
      "userId": "15728084309802203741"
     },
     "user_tz": -330
    },
    "id": "85d7de3a",
    "outputId": "3b02848e-e8e8-4e1f-ae0f-33b9c85f4647"
   },
   "outputs": [
    {
     "name": "stdout",
     "output_type": "stream",
     "text": [
      "1/1 [==============================] - 0s 25ms/step\n",
      "The review is positive [[0.8136588]]\n"
     ]
    }
   ],
   "source": [
    "text = \"The movie was  good, i will recommend this movie to anyone\"\n",
    "\n",
    "predicted_value,value=predictions(lstm_model,text)\n",
    "\n",
    "print(predicted_value,value)"
   ]
  },
  {
   "cell_type": "markdown",
   "id": "87da4f7a",
   "metadata": {
    "id": "87da4f7a"
   },
   "source": [
    "### Save Model"
   ]
  },
  {
   "cell_type": "code",
   "execution_count": null,
   "id": "cdf70d1c",
   "metadata": {
    "id": "cdf70d1c"
   },
   "outputs": [],
   "source": [
    "lstm_model.save('sentiment_rnn_movie_10_25.h5')"
   ]
  },
  {
   "cell_type": "code",
   "execution_count": null,
   "id": "8a61b539",
   "metadata": {
    "id": "8a61b539"
   },
   "outputs": [],
   "source": [
    "loaded_model=load_model('sentiment_rnn.h5')\n",
    "loaded_model.summary()"
   ]
  }
 ],
 "metadata": {
  "accelerator": "GPU",
  "colab": {
   "gpuType": "T4",
   "provenance": []
  },
  "kernelspec": {
   "display_name": "Python 3 (ipykernel)",
   "language": "python",
   "name": "python3"
  },
  "language_info": {
   "codemirror_mode": {
    "name": "ipython",
    "version": 3
   },
   "file_extension": ".py",
   "mimetype": "text/x-python",
   "name": "python",
   "nbconvert_exporter": "python",
   "pygments_lexer": "ipython3",
   "version": "3.9.18"
  }
 },
 "nbformat": 4,
 "nbformat_minor": 5
}
